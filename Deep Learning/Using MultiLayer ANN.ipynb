{
  "cells": [
    {
      "cell_type": "code",
      "execution_count": null,
      "metadata": {
        "colab": {
          "base_uri": "https://localhost:8080/"
        },
        "id": "4732o2riFPRv",
        "outputId": "30c1ee3c-937d-4b68-8e69-eb5880453db6"
      },
      "outputs": [
        {
          "output_type": "stream",
          "name": "stdout",
          "text": [
            "Requirement already satisfied: tensorflow in /usr/local/lib/python3.7/dist-packages (2.8.0)\n",
            "Requirement already satisfied: six>=1.12.0 in /usr/local/lib/python3.7/dist-packages (from tensorflow) (1.15.0)\n",
            "Requirement already satisfied: keras-preprocessing>=1.1.1 in /usr/local/lib/python3.7/dist-packages (from tensorflow) (1.1.2)\n",
            "Requirement already satisfied: absl-py>=0.4.0 in /usr/local/lib/python3.7/dist-packages (from tensorflow) (1.0.0)\n",
            "Requirement already satisfied: wrapt>=1.11.0 in /usr/local/lib/python3.7/dist-packages (from tensorflow) (1.13.3)\n",
            "Collecting tf-estimator-nightly==2.8.0.dev2021122109\n",
            "  Downloading tf_estimator_nightly-2.8.0.dev2021122109-py2.py3-none-any.whl (462 kB)\n",
            "\u001b[K     |████████████████████████████████| 462 kB 5.1 MB/s \n",
            "\u001b[?25hRequirement already satisfied: protobuf>=3.9.2 in /usr/local/lib/python3.7/dist-packages (from tensorflow) (3.17.3)\n",
            "Requirement already satisfied: typing-extensions>=3.6.6 in /usr/local/lib/python3.7/dist-packages (from tensorflow) (3.10.0.2)\n",
            "Requirement already satisfied: libclang>=9.0.1 in /usr/local/lib/python3.7/dist-packages (from tensorflow) (13.0.0)\n",
            "Requirement already satisfied: tensorboard<2.9,>=2.8 in /usr/local/lib/python3.7/dist-packages (from tensorflow) (2.8.0)\n",
            "Requirement already satisfied: termcolor>=1.1.0 in /usr/local/lib/python3.7/dist-packages (from tensorflow) (1.1.0)\n",
            "Requirement already satisfied: grpcio<2.0,>=1.24.3 in /usr/local/lib/python3.7/dist-packages (from tensorflow) (1.44.0)\n",
            "Requirement already satisfied: google-pasta>=0.1.1 in /usr/local/lib/python3.7/dist-packages (from tensorflow) (0.2.0)\n",
            "Requirement already satisfied: numpy>=1.20 in /usr/local/lib/python3.7/dist-packages (from tensorflow) (1.21.5)\n",
            "Requirement already satisfied: gast>=0.2.1 in /usr/local/lib/python3.7/dist-packages (from tensorflow) (0.5.3)\n",
            "Requirement already satisfied: setuptools in /usr/local/lib/python3.7/dist-packages (from tensorflow) (57.4.0)\n",
            "Requirement already satisfied: keras<2.9,>=2.8.0rc0 in /usr/local/lib/python3.7/dist-packages (from tensorflow) (2.8.0)\n",
            "Requirement already satisfied: tensorflow-io-gcs-filesystem>=0.23.1 in /usr/local/lib/python3.7/dist-packages (from tensorflow) (0.24.0)\n",
            "Requirement already satisfied: opt-einsum>=2.3.2 in /usr/local/lib/python3.7/dist-packages (from tensorflow) (3.3.0)\n",
            "Requirement already satisfied: astunparse>=1.6.0 in /usr/local/lib/python3.7/dist-packages (from tensorflow) (1.6.3)\n",
            "Requirement already satisfied: flatbuffers>=1.12 in /usr/local/lib/python3.7/dist-packages (from tensorflow) (2.0)\n",
            "Requirement already satisfied: h5py>=2.9.0 in /usr/local/lib/python3.7/dist-packages (from tensorflow) (3.1.0)\n",
            "Requirement already satisfied: wheel<1.0,>=0.23.0 in /usr/local/lib/python3.7/dist-packages (from astunparse>=1.6.0->tensorflow) (0.37.1)\n",
            "Requirement already satisfied: cached-property in /usr/local/lib/python3.7/dist-packages (from h5py>=2.9.0->tensorflow) (1.5.2)\n",
            "Requirement already satisfied: google-auth<3,>=1.6.3 in /usr/local/lib/python3.7/dist-packages (from tensorboard<2.9,>=2.8->tensorflow) (1.35.0)\n",
            "Requirement already satisfied: werkzeug>=0.11.15 in /usr/local/lib/python3.7/dist-packages (from tensorboard<2.9,>=2.8->tensorflow) (1.0.1)\n",
            "Requirement already satisfied: tensorboard-data-server<0.7.0,>=0.6.0 in /usr/local/lib/python3.7/dist-packages (from tensorboard<2.9,>=2.8->tensorflow) (0.6.1)\n",
            "Requirement already satisfied: tensorboard-plugin-wit>=1.6.0 in /usr/local/lib/python3.7/dist-packages (from tensorboard<2.9,>=2.8->tensorflow) (1.8.1)\n",
            "Requirement already satisfied: markdown>=2.6.8 in /usr/local/lib/python3.7/dist-packages (from tensorboard<2.9,>=2.8->tensorflow) (3.3.6)\n",
            "Requirement already satisfied: requests<3,>=2.21.0 in /usr/local/lib/python3.7/dist-packages (from tensorboard<2.9,>=2.8->tensorflow) (2.23.0)\n",
            "Requirement already satisfied: google-auth-oauthlib<0.5,>=0.4.1 in /usr/local/lib/python3.7/dist-packages (from tensorboard<2.9,>=2.8->tensorflow) (0.4.6)\n",
            "Requirement already satisfied: pyasn1-modules>=0.2.1 in /usr/local/lib/python3.7/dist-packages (from google-auth<3,>=1.6.3->tensorboard<2.9,>=2.8->tensorflow) (0.2.8)\n",
            "Requirement already satisfied: cachetools<5.0,>=2.0.0 in /usr/local/lib/python3.7/dist-packages (from google-auth<3,>=1.6.3->tensorboard<2.9,>=2.8->tensorflow) (4.2.4)\n",
            "Requirement already satisfied: rsa<5,>=3.1.4 in /usr/local/lib/python3.7/dist-packages (from google-auth<3,>=1.6.3->tensorboard<2.9,>=2.8->tensorflow) (4.8)\n",
            "Requirement already satisfied: requests-oauthlib>=0.7.0 in /usr/local/lib/python3.7/dist-packages (from google-auth-oauthlib<0.5,>=0.4.1->tensorboard<2.9,>=2.8->tensorflow) (1.3.1)\n",
            "Requirement already satisfied: importlib-metadata>=4.4 in /usr/local/lib/python3.7/dist-packages (from markdown>=2.6.8->tensorboard<2.9,>=2.8->tensorflow) (4.11.1)\n",
            "Requirement already satisfied: zipp>=0.5 in /usr/local/lib/python3.7/dist-packages (from importlib-metadata>=4.4->markdown>=2.6.8->tensorboard<2.9,>=2.8->tensorflow) (3.7.0)\n",
            "Requirement already satisfied: pyasn1<0.5.0,>=0.4.6 in /usr/local/lib/python3.7/dist-packages (from pyasn1-modules>=0.2.1->google-auth<3,>=1.6.3->tensorboard<2.9,>=2.8->tensorflow) (0.4.8)\n",
            "Requirement already satisfied: urllib3!=1.25.0,!=1.25.1,<1.26,>=1.21.1 in /usr/local/lib/python3.7/dist-packages (from requests<3,>=2.21.0->tensorboard<2.9,>=2.8->tensorflow) (1.24.3)\n",
            "Requirement already satisfied: certifi>=2017.4.17 in /usr/local/lib/python3.7/dist-packages (from requests<3,>=2.21.0->tensorboard<2.9,>=2.8->tensorflow) (2021.10.8)\n",
            "Requirement already satisfied: chardet<4,>=3.0.2 in /usr/local/lib/python3.7/dist-packages (from requests<3,>=2.21.0->tensorboard<2.9,>=2.8->tensorflow) (3.0.4)\n",
            "Requirement already satisfied: idna<3,>=2.5 in /usr/local/lib/python3.7/dist-packages (from requests<3,>=2.21.0->tensorboard<2.9,>=2.8->tensorflow) (2.10)\n",
            "Requirement already satisfied: oauthlib>=3.0.0 in /usr/local/lib/python3.7/dist-packages (from requests-oauthlib>=0.7.0->google-auth-oauthlib<0.5,>=0.4.1->tensorboard<2.9,>=2.8->tensorflow) (3.2.0)\n",
            "Installing collected packages: tf-estimator-nightly\n",
            "Successfully installed tf-estimator-nightly-2.8.0.dev2021122109\n"
          ]
        }
      ],
      "source": [
        "!pip install tensorflow "
      ]
    },
    {
      "cell_type": "code",
      "execution_count": null,
      "metadata": {
        "id": "-Bp4Tfm7DSpE"
      },
      "outputs": [],
      "source": [
        "import nltk\n",
        "from nltk.stem import WordNetLemmatizer\n",
        "lemmatizer = WordNetLemmatizer()\n",
        "import json\n",
        "import pickle\n"
      ]
    },
    {
      "cell_type": "code",
      "execution_count": null,
      "metadata": {
        "id": "hYTgkVnlDTCn"
      },
      "outputs": [],
      "source": [
        "import numpy as np\n",
        "import tensorflow as tf\n",
        "from keras.models import Sequential\n",
        "from keras.layers import Dense, Activation, Dropout\n",
        "from tensorflow.keras.optimizers import SGD\n",
        "import random"
      ]
    },
    {
      "cell_type": "code",
      "execution_count": null,
      "metadata": {
        "colab": {
          "base_uri": "https://localhost:8080/"
        },
        "id": "bKwBoHHZDV1S",
        "outputId": "747b5ab6-cfc5-450b-dec8-f2a61838f913"
      },
      "outputs": [
        {
          "output_type": "stream",
          "name": "stdout",
          "text": [
            "[nltk_data] Downloading package punkt to /root/nltk_data...\n",
            "[nltk_data]   Unzipping tokenizers/punkt.zip.\n",
            "[nltk_data] Downloading package wordnet to /root/nltk_data...\n",
            "[nltk_data]   Unzipping corpora/wordnet.zip.\n"
          ]
        },
        {
          "output_type": "execute_result",
          "data": {
            "text/plain": [
              "True"
            ]
          },
          "metadata": {},
          "execution_count": 4
        }
      ],
      "source": [
        "import nltk\n",
        "nltk.download('punkt')\n",
        "import nltk\n",
        "nltk.download('wordnet')"
      ]
    },
    {
      "cell_type": "code",
      "execution_count": null,
      "metadata": {
        "id": "fXTLiQUtEUmn"
      },
      "outputs": [],
      "source": [
        "words=[]\n",
        "classes = []\n",
        "documents = []\n",
        "ignore_words = ['?', '!']\n",
        "\n",
        "with open('intents_2.json') as json_data:\n",
        "    intents = json.load(json_data)\n"
      ]
    },
    {
      "cell_type": "code",
      "execution_count": null,
      "metadata": {
        "id": "pNIqPDG2EaeI"
      },
      "outputs": [],
      "source": [
        "for intent in intents['intents']:\n",
        "    for pattern in intent['patterns']:\n",
        "\n",
        "        #tokenize each word\n",
        "        w = nltk.word_tokenize(pattern)\n",
        "        words.extend(w)\n",
        "        #add documents in the corpus\n",
        "        documents.append((w, intent['tag']))\n",
        "\n",
        "        # add to our classes list\n",
        "        if intent['tag'] not in classes:\n",
        "            classes.append(intent['tag'])"
      ]
    },
    {
      "cell_type": "code",
      "execution_count": null,
      "metadata": {
        "id": "8mtXO970t8PT"
      },
      "outputs": [],
      "source": [
        "# import pandas as pd\n",
        "# data=pd.DataFrame({'docs':documents})\n",
        "# data.to_csv('docs.csv',index=False)"
      ]
    },
    {
      "cell_type": "code",
      "execution_count": null,
      "metadata": {
        "id": "RNUzVOFeEdOW"
      },
      "outputs": [],
      "source": [
        "words = [lemmatizer.lemmatize(w.lower()) for w in words if w not in ignore_words]\n",
        "words = sorted(list(set(words)))"
      ]
    },
    {
      "cell_type": "code",
      "execution_count": null,
      "metadata": {
        "colab": {
          "base_uri": "https://localhost:8080/"
        },
        "id": "UfJ3VS19EwPv",
        "outputId": "477478ae-b0fb-4f68-e5b5-e09f5abb0e8d"
      },
      "outputs": [
        {
          "output_type": "stream",
          "name": "stdout",
          "text": [
            "Training data created\n"
          ]
        },
        {
          "output_type": "stream",
          "name": "stderr",
          "text": [
            "/usr/local/lib/python3.7/dist-packages/ipykernel_launcher.py:25: VisibleDeprecationWarning: Creating an ndarray from ragged nested sequences (which is a list-or-tuple of lists-or-tuples-or ndarrays with different lengths or shapes) is deprecated. If you meant to do this, you must specify 'dtype=object' when creating the ndarray.\n"
          ]
        }
      ],
      "source": [
        "\n",
        "# create our training data\n",
        "training = []\n",
        "# create an empty array for our output\n",
        "output_empty = [0] * len(classes)\n",
        "# training set, bag of words for each sentence\n",
        "for doc in documents:\n",
        "    # initialize our bag of words\n",
        "    bag = []\n",
        "    # list of tokenized words for the pattern\n",
        "    pattern_words = doc[0]\n",
        "    # lemmatize each word - create base word, in attempt to represent related words\n",
        "    pattern_words = [lemmatizer.lemmatize(word.lower()) for word in pattern_words]\n",
        "    # create our bag of words array with 1, if word match found in current pattern\n",
        "    for w in words:\n",
        "        bag.append(1) if w in pattern_words else bag.append(0)\n",
        "    \n",
        "    # output is a '0' for each tag and '1' for current tag (for each pattern)\n",
        "    output_row = list(output_empty)\n",
        "    output_row[classes.index(doc[1])] = 1\n",
        "    \n",
        "    training.append([bag, output_row])\n",
        "# shuffle our features and turn into np.array\n",
        "random.shuffle(training)\n",
        "training = np.array(training)\n",
        "# create train and test lists. X - patterns, Y - intents\n",
        "train_x = list(training[:,0])\n",
        "train_y = list(training[:,1])\n",
        "print(\"Training data created\")\n"
      ]
    },
    {
      "cell_type": "code",
      "source": [
        "from sklearn.model_selection import train_test_split\n",
        "X_train, X_test, Y_train, Y_test = train_test_split(np.array(train_x), np.array(train_y), test_size=0.15)"
      ],
      "metadata": {
        "id": "ZaroVwR_ebP0"
      },
      "execution_count": null,
      "outputs": []
    },
    {
      "cell_type": "code",
      "execution_count": null,
      "metadata": {
        "colab": {
          "base_uri": "https://localhost:8080/"
        },
        "id": "B2tEugV3FIRw",
        "outputId": "a4db2e2d-1257-4d98-b537-ed21c9ffcabb"
      },
      "outputs": [
        {
          "output_type": "stream",
          "name": "stdout",
          "text": [
            "Model: \"sequential\"\n",
            "_________________________________________________________________\n",
            " Layer (type)                Output Shape              Param #   \n",
            "=================================================================\n",
            " dense (Dense)               (None, 256)               225536    \n",
            "                                                                 \n",
            " dropout (Dropout)           (None, 256)               0         \n",
            "                                                                 \n",
            " dense_1 (Dense)             (None, 128)               32896     \n",
            "                                                                 \n",
            " dropout_1 (Dropout)         (None, 128)               0         \n",
            "                                                                 \n",
            " dense_2 (Dense)             (None, 64)                8256      \n",
            "                                                                 \n",
            " dropout_2 (Dropout)         (None, 64)                0         \n",
            "                                                                 \n",
            " dense_3 (Dense)             (None, 246)               15990     \n",
            "                                                                 \n",
            "=================================================================\n",
            "Total params: 282,678\n",
            "Trainable params: 282,678\n",
            "Non-trainable params: 0\n",
            "_________________________________________________________________\n"
          ]
        },
        {
          "output_type": "stream",
          "name": "stderr",
          "text": [
            "/usr/local/lib/python3.7/dist-packages/keras/optimizer_v2/gradient_descent.py:102: UserWarning: The `lr` argument is deprecated, use `learning_rate` instead.\n",
            "  super(SGD, self).__init__(name, **kwargs)\n"
          ]
        }
      ],
      "source": [
        "# Create model - 3 layers. First layer 128 neurons, second layer 64 neurons and 3rd output layer contains number of neurons\n",
        "# equal to number of intents to predict output intent with softmax\n",
        "model = Sequential()\n",
        "model.add(Dense(256, input_shape=(len(X_train[0]),), activation='relu'))\n",
        "model.add(Dropout(0.3))\n",
        "model.add(Dense(128, activation='relu'))\n",
        "model.add(Dropout(0.3))\n",
        "model.add(Dense(64, activation='relu'))\n",
        "model.add(Dropout(0.3))\n",
        "model.add(Dense(len(Y_train[0]), activation='softmax'))\n",
        "\n",
        "model.summary()\n",
        "# Compile model. Stochastic gradient descent with Nesterov accelerated gradient gives good results for this model\n",
        "sgd = SGD(lr=0.01, decay=1e-4, momentum=0.8, nesterov=True)\n"
      ]
    },
    {
      "cell_type": "code",
      "execution_count": null,
      "metadata": {
        "id": "tibq3PcwC3hm"
      },
      "outputs": [],
      "source": [
        "####epochs\n",
        "no_epochs=200\n",
        "model.compile(loss='categorical_crossentropy', optimizer=sgd, metrics=['accuracy'])"
      ]
    },
    {
      "cell_type": "code",
      "source": [
        "from keras.callbacks import History\n",
        "history = History()\n",
        "m = model.fit(X_train, Y_train, validation_data = (X_test, Y_test),\n",
        "                   epochs = 100, batch_size = 15, callbacks = [history])   "
      ],
      "metadata": {
        "colab": {
          "base_uri": "https://localhost:8080/"
        },
        "id": "8KMgvNdWeonA",
        "outputId": "1cbb18ef-e7b4-45d9-e00b-27ac5f7ba77c"
      },
      "execution_count": null,
      "outputs": [
        {
          "output_type": "stream",
          "name": "stdout",
          "text": [
            "Epoch 1/100\n",
            "46/46 [==============================] - 3s 11ms/step - loss: 5.5017 - accuracy: 0.0116 - val_loss: 5.4943 - val_accuracy: 0.0246\n",
            "Epoch 2/100\n",
            "46/46 [==============================] - 0s 6ms/step - loss: 5.4858 - accuracy: 0.0233 - val_loss: 5.4850 - val_accuracy: 0.0410\n",
            "Epoch 3/100\n",
            "46/46 [==============================] - 0s 6ms/step - loss: 5.4665 - accuracy: 0.0349 - val_loss: 5.4736 - val_accuracy: 0.0410\n",
            "Epoch 4/100\n",
            "46/46 [==============================] - 0s 6ms/step - loss: 5.4519 - accuracy: 0.0436 - val_loss: 5.4603 - val_accuracy: 0.0410\n",
            "Epoch 5/100\n",
            "46/46 [==============================] - 0s 6ms/step - loss: 5.4248 - accuracy: 0.0334 - val_loss: 5.4437 - val_accuracy: 0.0574\n",
            "Epoch 6/100\n",
            "46/46 [==============================] - 0s 6ms/step - loss: 5.4074 - accuracy: 0.0349 - val_loss: 5.4275 - val_accuracy: 0.0574\n",
            "Epoch 7/100\n",
            "46/46 [==============================] - 0s 6ms/step - loss: 5.3717 - accuracy: 0.0349 - val_loss: 5.4060 - val_accuracy: 0.0574\n",
            "Epoch 8/100\n",
            "46/46 [==============================] - 0s 6ms/step - loss: 5.3357 - accuracy: 0.0422 - val_loss: 5.3823 - val_accuracy: 0.0574\n",
            "Epoch 9/100\n",
            "46/46 [==============================] - 0s 6ms/step - loss: 5.2909 - accuracy: 0.0422 - val_loss: 5.3569 - val_accuracy: 0.0574\n",
            "Epoch 10/100\n",
            "46/46 [==============================] - 0s 6ms/step - loss: 5.2337 - accuracy: 0.0436 - val_loss: 5.3278 - val_accuracy: 0.0656\n",
            "Epoch 11/100\n",
            "46/46 [==============================] - 0s 6ms/step - loss: 5.1911 - accuracy: 0.0480 - val_loss: 5.2923 - val_accuracy: 0.0738\n",
            "Epoch 12/100\n",
            "46/46 [==============================] - 0s 6ms/step - loss: 5.1296 - accuracy: 0.0610 - val_loss: 5.2603 - val_accuracy: 0.0738\n",
            "Epoch 13/100\n",
            "46/46 [==============================] - 0s 6ms/step - loss: 5.0501 - accuracy: 0.0640 - val_loss: 5.2198 - val_accuracy: 0.0738\n",
            "Epoch 14/100\n",
            "46/46 [==============================] - 0s 5ms/step - loss: 4.9806 - accuracy: 0.0683 - val_loss: 5.1595 - val_accuracy: 0.0984\n",
            "Epoch 15/100\n",
            "46/46 [==============================] - 0s 6ms/step - loss: 4.8636 - accuracy: 0.0843 - val_loss: 5.1068 - val_accuracy: 0.1066\n",
            "Epoch 16/100\n",
            "46/46 [==============================] - 0s 6ms/step - loss: 4.7720 - accuracy: 0.1047 - val_loss: 5.0314 - val_accuracy: 0.1475\n",
            "Epoch 17/100\n",
            "46/46 [==============================] - 0s 6ms/step - loss: 4.6678 - accuracy: 0.1134 - val_loss: 4.9337 - val_accuracy: 0.1639\n",
            "Epoch 18/100\n",
            "46/46 [==============================] - 0s 6ms/step - loss: 4.5511 - accuracy: 0.1265 - val_loss: 4.8487 - val_accuracy: 0.1721\n",
            "Epoch 19/100\n",
            "46/46 [==============================] - 0s 8ms/step - loss: 4.4346 - accuracy: 0.1439 - val_loss: 4.7610 - val_accuracy: 0.1885\n",
            "Epoch 20/100\n",
            "46/46 [==============================] - 1s 13ms/step - loss: 4.3413 - accuracy: 0.1439 - val_loss: 4.6277 - val_accuracy: 0.2213\n",
            "Epoch 21/100\n",
            "46/46 [==============================] - 0s 8ms/step - loss: 4.1569 - accuracy: 0.1831 - val_loss: 4.5451 - val_accuracy: 0.2377\n",
            "Epoch 22/100\n",
            "46/46 [==============================] - 0s 7ms/step - loss: 4.0730 - accuracy: 0.1991 - val_loss: 4.4236 - val_accuracy: 0.2541\n",
            "Epoch 23/100\n",
            "46/46 [==============================] - 1s 14ms/step - loss: 3.8903 - accuracy: 0.2282 - val_loss: 4.2899 - val_accuracy: 0.3033\n",
            "Epoch 24/100\n",
            "46/46 [==============================] - 0s 9ms/step - loss: 3.7736 - accuracy: 0.2442 - val_loss: 4.1866 - val_accuracy: 0.2869\n",
            "Epoch 25/100\n",
            "46/46 [==============================] - 0s 5ms/step - loss: 3.6579 - accuracy: 0.2558 - val_loss: 4.0698 - val_accuracy: 0.3197\n",
            "Epoch 26/100\n",
            "46/46 [==============================] - 1s 11ms/step - loss: 3.5076 - accuracy: 0.2980 - val_loss: 3.9532 - val_accuracy: 0.3197\n",
            "Epoch 27/100\n",
            "46/46 [==============================] - 1s 13ms/step - loss: 3.3774 - accuracy: 0.2994 - val_loss: 3.8345 - val_accuracy: 0.3443\n",
            "Epoch 28/100\n",
            "46/46 [==============================] - 0s 7ms/step - loss: 3.2993 - accuracy: 0.3198 - val_loss: 3.7280 - val_accuracy: 0.3689\n",
            "Epoch 29/100\n",
            "46/46 [==============================] - 0s 6ms/step - loss: 3.1698 - accuracy: 0.3358 - val_loss: 3.6433 - val_accuracy: 0.3361\n",
            "Epoch 30/100\n",
            "46/46 [==============================] - 0s 7ms/step - loss: 3.0415 - accuracy: 0.3663 - val_loss: 3.5549 - val_accuracy: 0.3525\n",
            "Epoch 31/100\n",
            "46/46 [==============================] - 0s 6ms/step - loss: 3.0115 - accuracy: 0.3706 - val_loss: 3.4859 - val_accuracy: 0.3770\n",
            "Epoch 32/100\n",
            "46/46 [==============================] - 0s 6ms/step - loss: 2.8983 - accuracy: 0.3997 - val_loss: 3.4189 - val_accuracy: 0.3525\n",
            "Epoch 33/100\n",
            "46/46 [==============================] - 0s 6ms/step - loss: 2.7445 - accuracy: 0.4128 - val_loss: 3.3448 - val_accuracy: 0.3770\n",
            "Epoch 34/100\n",
            "46/46 [==============================] - 0s 6ms/step - loss: 2.7581 - accuracy: 0.4041 - val_loss: 3.2948 - val_accuracy: 0.3852\n",
            "Epoch 35/100\n",
            "46/46 [==============================] - 0s 5ms/step - loss: 2.5797 - accuracy: 0.4404 - val_loss: 3.2284 - val_accuracy: 0.4016\n",
            "Epoch 36/100\n",
            "46/46 [==============================] - 0s 6ms/step - loss: 2.5306 - accuracy: 0.4390 - val_loss: 3.1715 - val_accuracy: 0.4016\n",
            "Epoch 37/100\n",
            "46/46 [==============================] - 0s 6ms/step - loss: 2.4536 - accuracy: 0.4578 - val_loss: 3.1415 - val_accuracy: 0.4016\n",
            "Epoch 38/100\n",
            "46/46 [==============================] - 0s 6ms/step - loss: 2.3755 - accuracy: 0.4506 - val_loss: 3.0962 - val_accuracy: 0.4262\n",
            "Epoch 39/100\n",
            "46/46 [==============================] - 0s 6ms/step - loss: 2.3401 - accuracy: 0.4535 - val_loss: 3.0618 - val_accuracy: 0.4016\n",
            "Epoch 40/100\n",
            "46/46 [==============================] - 0s 7ms/step - loss: 2.2490 - accuracy: 0.5044 - val_loss: 3.0376 - val_accuracy: 0.4262\n",
            "Epoch 41/100\n",
            "46/46 [==============================] - 0s 6ms/step - loss: 2.1997 - accuracy: 0.4855 - val_loss: 2.9919 - val_accuracy: 0.4426\n",
            "Epoch 42/100\n",
            "46/46 [==============================] - 0s 6ms/step - loss: 2.1569 - accuracy: 0.4898 - val_loss: 2.9458 - val_accuracy: 0.4426\n",
            "Epoch 43/100\n",
            "46/46 [==============================] - 0s 6ms/step - loss: 2.0602 - accuracy: 0.5320 - val_loss: 2.9188 - val_accuracy: 0.4426\n",
            "Epoch 44/100\n",
            "46/46 [==============================] - 0s 6ms/step - loss: 2.0664 - accuracy: 0.5116 - val_loss: 2.9058 - val_accuracy: 0.4590\n",
            "Epoch 45/100\n",
            "46/46 [==============================] - 0s 7ms/step - loss: 1.9201 - accuracy: 0.5523 - val_loss: 2.8819 - val_accuracy: 0.4426\n",
            "Epoch 46/100\n",
            "46/46 [==============================] - 0s 6ms/step - loss: 1.8846 - accuracy: 0.5523 - val_loss: 2.8553 - val_accuracy: 0.4508\n",
            "Epoch 47/100\n",
            "46/46 [==============================] - 0s 6ms/step - loss: 1.8757 - accuracy: 0.5523 - val_loss: 2.8292 - val_accuracy: 0.4672\n",
            "Epoch 48/100\n",
            "46/46 [==============================] - 0s 6ms/step - loss: 1.7877 - accuracy: 0.5451 - val_loss: 2.7956 - val_accuracy: 0.5000\n",
            "Epoch 49/100\n",
            "46/46 [==============================] - 0s 6ms/step - loss: 1.7489 - accuracy: 0.5814 - val_loss: 2.7729 - val_accuracy: 0.4918\n",
            "Epoch 50/100\n",
            "46/46 [==============================] - 0s 6ms/step - loss: 1.7323 - accuracy: 0.5799 - val_loss: 2.7561 - val_accuracy: 0.5164\n",
            "Epoch 51/100\n",
            "46/46 [==============================] - 0s 7ms/step - loss: 1.6292 - accuracy: 0.6017 - val_loss: 2.7513 - val_accuracy: 0.5082\n",
            "Epoch 52/100\n",
            "46/46 [==============================] - 0s 6ms/step - loss: 1.6591 - accuracy: 0.5843 - val_loss: 2.7293 - val_accuracy: 0.5000\n",
            "Epoch 53/100\n",
            "46/46 [==============================] - 0s 6ms/step - loss: 1.5841 - accuracy: 0.5988 - val_loss: 2.7099 - val_accuracy: 0.5000\n",
            "Epoch 54/100\n",
            "46/46 [==============================] - 0s 6ms/step - loss: 1.5343 - accuracy: 0.6177 - val_loss: 2.6944 - val_accuracy: 0.5000\n",
            "Epoch 55/100\n",
            "46/46 [==============================] - 0s 6ms/step - loss: 1.4939 - accuracy: 0.6206 - val_loss: 2.6437 - val_accuracy: 0.5410\n",
            "Epoch 56/100\n",
            "46/46 [==============================] - 0s 6ms/step - loss: 1.4866 - accuracy: 0.6308 - val_loss: 2.6167 - val_accuracy: 0.5328\n",
            "Epoch 57/100\n",
            "46/46 [==============================] - 0s 6ms/step - loss: 1.3762 - accuracy: 0.6497 - val_loss: 2.6316 - val_accuracy: 0.5328\n",
            "Epoch 58/100\n",
            "46/46 [==============================] - 0s 7ms/step - loss: 1.3618 - accuracy: 0.6497 - val_loss: 2.6408 - val_accuracy: 0.5246\n",
            "Epoch 59/100\n",
            "46/46 [==============================] - 0s 6ms/step - loss: 1.3297 - accuracy: 0.6526 - val_loss: 2.5947 - val_accuracy: 0.5410\n",
            "Epoch 60/100\n",
            "46/46 [==============================] - 0s 6ms/step - loss: 1.3594 - accuracy: 0.6613 - val_loss: 2.6167 - val_accuracy: 0.5328\n",
            "Epoch 61/100\n",
            "46/46 [==============================] - 0s 6ms/step - loss: 1.3740 - accuracy: 0.6381 - val_loss: 2.5887 - val_accuracy: 0.5656\n",
            "Epoch 62/100\n",
            "46/46 [==============================] - 0s 6ms/step - loss: 1.2557 - accuracy: 0.6846 - val_loss: 2.5881 - val_accuracy: 0.5738\n",
            "Epoch 63/100\n",
            "46/46 [==============================] - 0s 8ms/step - loss: 1.2091 - accuracy: 0.7078 - val_loss: 2.5803 - val_accuracy: 0.5820\n",
            "Epoch 64/100\n",
            "46/46 [==============================] - 0s 11ms/step - loss: 1.2048 - accuracy: 0.6860 - val_loss: 2.5729 - val_accuracy: 0.5984\n",
            "Epoch 65/100\n",
            "46/46 [==============================] - 0s 8ms/step - loss: 1.1980 - accuracy: 0.6846 - val_loss: 2.5524 - val_accuracy: 0.5820\n",
            "Epoch 66/100\n",
            "46/46 [==============================] - 0s 7ms/step - loss: 1.1116 - accuracy: 0.6890 - val_loss: 2.5299 - val_accuracy: 0.5984\n",
            "Epoch 67/100\n",
            "46/46 [==============================] - 0s 6ms/step - loss: 1.0756 - accuracy: 0.7137 - val_loss: 2.5384 - val_accuracy: 0.5738\n",
            "Epoch 68/100\n",
            "46/46 [==============================] - 0s 6ms/step - loss: 1.0487 - accuracy: 0.7384 - val_loss: 2.5137 - val_accuracy: 0.6066\n",
            "Epoch 69/100\n",
            "46/46 [==============================] - 0s 6ms/step - loss: 1.0344 - accuracy: 0.7267 - val_loss: 2.5476 - val_accuracy: 0.5902\n",
            "Epoch 70/100\n",
            "46/46 [==============================] - 0s 6ms/step - loss: 1.0514 - accuracy: 0.7122 - val_loss: 2.5047 - val_accuracy: 0.6148\n",
            "Epoch 71/100\n",
            "46/46 [==============================] - 0s 7ms/step - loss: 0.9803 - accuracy: 0.7587 - val_loss: 2.5430 - val_accuracy: 0.5984\n",
            "Epoch 72/100\n",
            "46/46 [==============================] - 0s 6ms/step - loss: 0.9600 - accuracy: 0.7340 - val_loss: 2.4912 - val_accuracy: 0.6148\n",
            "Epoch 73/100\n",
            "46/46 [==============================] - 0s 6ms/step - loss: 0.9085 - accuracy: 0.7558 - val_loss: 2.4998 - val_accuracy: 0.6311\n",
            "Epoch 74/100\n",
            "46/46 [==============================] - 0s 7ms/step - loss: 0.9325 - accuracy: 0.7500 - val_loss: 2.5092 - val_accuracy: 0.6230\n",
            "Epoch 75/100\n",
            "46/46 [==============================] - 0s 6ms/step - loss: 0.8872 - accuracy: 0.7573 - val_loss: 2.5175 - val_accuracy: 0.6148\n",
            "Epoch 76/100\n",
            "46/46 [==============================] - 0s 6ms/step - loss: 0.8359 - accuracy: 0.7936 - val_loss: 2.5476 - val_accuracy: 0.6230\n",
            "Epoch 77/100\n",
            "46/46 [==============================] - 0s 6ms/step - loss: 0.8610 - accuracy: 0.7573 - val_loss: 2.5840 - val_accuracy: 0.6230\n",
            "Epoch 78/100\n",
            "46/46 [==============================] - 0s 6ms/step - loss: 0.8057 - accuracy: 0.7747 - val_loss: 2.5724 - val_accuracy: 0.6230\n",
            "Epoch 79/100\n",
            "46/46 [==============================] - 0s 5ms/step - loss: 0.7953 - accuracy: 0.7951 - val_loss: 2.5837 - val_accuracy: 0.6148\n",
            "Epoch 80/100\n",
            "46/46 [==============================] - 0s 6ms/step - loss: 0.7580 - accuracy: 0.7922 - val_loss: 2.5611 - val_accuracy: 0.6066\n",
            "Epoch 81/100\n",
            "46/46 [==============================] - 0s 6ms/step - loss: 0.7722 - accuracy: 0.7645 - val_loss: 2.6013 - val_accuracy: 0.5984\n",
            "Epoch 82/100\n",
            "46/46 [==============================] - 0s 6ms/step - loss: 0.7483 - accuracy: 0.8023 - val_loss: 2.5589 - val_accuracy: 0.6475\n",
            "Epoch 83/100\n",
            "46/46 [==============================] - 0s 7ms/step - loss: 0.7332 - accuracy: 0.8096 - val_loss: 2.5794 - val_accuracy: 0.6393\n",
            "Epoch 84/100\n",
            "46/46 [==============================] - 0s 7ms/step - loss: 0.7275 - accuracy: 0.7980 - val_loss: 2.5529 - val_accuracy: 0.6639\n",
            "Epoch 85/100\n",
            "46/46 [==============================] - 0s 7ms/step - loss: 0.6746 - accuracy: 0.8256 - val_loss: 2.5885 - val_accuracy: 0.6475\n",
            "Epoch 86/100\n",
            "46/46 [==============================] - 0s 7ms/step - loss: 0.7425 - accuracy: 0.7892 - val_loss: 2.5700 - val_accuracy: 0.6311\n",
            "Epoch 87/100\n",
            "46/46 [==============================] - 0s 6ms/step - loss: 0.6792 - accuracy: 0.8067 - val_loss: 2.6060 - val_accuracy: 0.6393\n",
            "Epoch 88/100\n",
            "46/46 [==============================] - 0s 7ms/step - loss: 0.6617 - accuracy: 0.8241 - val_loss: 2.6060 - val_accuracy: 0.6393\n",
            "Epoch 89/100\n",
            "46/46 [==============================] - 0s 6ms/step - loss: 0.6411 - accuracy: 0.8183 - val_loss: 2.6352 - val_accuracy: 0.6475\n",
            "Epoch 90/100\n",
            "46/46 [==============================] - 0s 7ms/step - loss: 0.6174 - accuracy: 0.8474 - val_loss: 2.6675 - val_accuracy: 0.6393\n",
            "Epoch 91/100\n",
            "46/46 [==============================] - 0s 6ms/step - loss: 0.6314 - accuracy: 0.8198 - val_loss: 2.6600 - val_accuracy: 0.6557\n",
            "Epoch 92/100\n",
            "46/46 [==============================] - 0s 6ms/step - loss: 0.6276 - accuracy: 0.8067 - val_loss: 2.5953 - val_accuracy: 0.6557\n",
            "Epoch 93/100\n",
            "46/46 [==============================] - 0s 6ms/step - loss: 0.6252 - accuracy: 0.8285 - val_loss: 2.6322 - val_accuracy: 0.6311\n",
            "Epoch 94/100\n",
            "46/46 [==============================] - 0s 6ms/step - loss: 0.6229 - accuracy: 0.8183 - val_loss: 2.6386 - val_accuracy: 0.6393\n",
            "Epoch 95/100\n",
            "46/46 [==============================] - 0s 7ms/step - loss: 0.6085 - accuracy: 0.8314 - val_loss: 2.6284 - val_accuracy: 0.6475\n",
            "Epoch 96/100\n",
            "46/46 [==============================] - 0s 7ms/step - loss: 0.6133 - accuracy: 0.8169 - val_loss: 2.6254 - val_accuracy: 0.6475\n",
            "Epoch 97/100\n",
            "46/46 [==============================] - 0s 6ms/step - loss: 0.5591 - accuracy: 0.8430 - val_loss: 2.6296 - val_accuracy: 0.6803\n",
            "Epoch 98/100\n",
            "46/46 [==============================] - 0s 7ms/step - loss: 0.5092 - accuracy: 0.8619 - val_loss: 2.7328 - val_accuracy: 0.6803\n",
            "Epoch 99/100\n",
            "46/46 [==============================] - 0s 6ms/step - loss: 0.4957 - accuracy: 0.8634 - val_loss: 2.7121 - val_accuracy: 0.6475\n",
            "Epoch 100/100\n",
            "46/46 [==============================] - 0s 7ms/step - loss: 0.5459 - accuracy: 0.8474 - val_loss: 2.6866 - val_accuracy: 0.6475\n"
          ]
        }
      ]
    },
    {
      "cell_type": "code",
      "source": [
        "import matplotlib.pyplot as plt "
      ],
      "metadata": {
        "id": "JanXimF_jQ_T"
      },
      "execution_count": null,
      "outputs": []
    },
    {
      "cell_type": "code",
      "source": [
        "plt.plot(m.history['accuracy'])\n",
        "plt.plot(m.history['val_accuracy'])\n",
        "plt.title('model accuracy')\n",
        "plt.ylabel('accuracy')\n",
        "plt.xlabel('epoch')\n",
        "plt.legend(['train', 'test'], loc='upper left')\n",
        "plt.grid()\n",
        "plt.show()\n",
        "\n",
        "plt.plot(m.history['loss'])\n",
        "plt.plot(m.history['val_loss'])\n",
        "plt.title('model loss')\n",
        "plt.ylabel('loss')\n",
        "plt.xlabel('epoch')\n",
        "plt.legend(['train', 'test'], loc='upper left')\n",
        "plt.grid()"
      ],
      "metadata": {
        "colab": {
          "base_uri": "https://localhost:8080/",
          "height": 573
        },
        "id": "VVimMZBRi2TG",
        "outputId": "b2875c12-8660-4c8b-c59b-7fe133e43a8a"
      },
      "execution_count": null,
      "outputs": [
        {
          "output_type": "display_data",
          "data": {
            "image/png": "[encoded data removed]",
            "text/plain": [
              "<Figure size 432x288 with 1 Axes>"
            ]
          },
          "metadata": {
            "needs_background": "light"
          }
        },
        {
          "output_type": "display_data",
          "data": {
            "image/png": "[encoded data removed]",
            "text/plain": [
              "<Figure size 432x288 with 1 Axes>"
            ]
          },
          "metadata": {
            "needs_background": "light"
          }
        }
      ]
    }
  ],
  "metadata": {
    "accelerator": "GPU",
    "colab": {
      "collapsed_sections": [],
      "name": "Final intent2 BOW using MultiLayer ANN.ipynb",
      "provenance": []
    },
    "kernelspec": {
      "display_name": "Python 3",
      "name": "python3"
    },
    "language_info": {
      "name": "python"
    }
  },
  "nbformat": 4,
  "nbformat_minor": 0
}