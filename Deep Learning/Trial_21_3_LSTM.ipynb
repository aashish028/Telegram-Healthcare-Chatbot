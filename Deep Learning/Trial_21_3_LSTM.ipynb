{
  "cells": [
    {
      "metadata": {
        "id": "xpecFFrBR9op"
      },
      "cell_type": "markdown",
      "source": [
        "### Import libraries"
      ]
    },
    {
      "metadata": {
        "_uuid": "8f2839f25d086af736a60e9eeb907d3b93b6e0e5",
        "_cell_guid": "b1076dfc-b9ad-4769-8c92-a6c4dae69d19",
        "trusted": true,
        "id": "wBlD7HIxR9ou"
      },
      "cell_type": "code",
      "source": [
        "import numpy as np\n",
        "import json\n",
        "import re\n",
        "import tensorflow as tf\n",
        "import random\n",
        "import spacy\n",
        "nlp = spacy.load('en_core_web_sm')"
      ],
      "execution_count": 1,
      "outputs": []
    },
    {
      "metadata": {
        "id": "mrLzfx1aR9ow"
      },
      "cell_type": "markdown",
      "source": [
        "### Import json file"
      ]
    },
    {
      "metadata": {
        "_uuid": "d629ff2d2480ee46fbb7e2d37f6b5fab8052498a",
        "_cell_guid": "79c7e3d0-c299-4dcb-8224-4455121ee9b0",
        "trusted": true,
        "id": "9vo5REmqR9ox"
      },
      "cell_type": "code",
      "source": [
        "with open('intents_2.json') as f:\n",
        "    intents = json.load(f)"
      ],
      "execution_count": 2,
      "outputs": []
    },
    {
      "metadata": {
        "id": "h50v_EWfR9ox"
      },
      "cell_type": "markdown",
      "source": [
        "### Preprocessing data\n",
        "In this part we gonna clean data, split them into inputs and targets tensor, build a tokenizer dictionary and turn sentences into sequences.\n",
        "The target tensor has a bunch of list with a length of unique title list."
      ]
    },
    {
      "metadata": {
        "trusted": true,
        "id": "9q6ks38qR9oy"
      },
      "cell_type": "code",
      "source": [
        "def preprocessing(line):\n",
        "    line = re.sub(r'[^a-zA-z.?!\\']', ' ', line)\n",
        "    line = re.sub(r'[ ]+', ' ', line)\n",
        "    return line"
      ],
      "execution_count": 3,
      "outputs": []
    },
    {
      "cell_type": "code",
      "source": [
        "def isString(x):\n",
        "  return isinstance(x, str)"
      ],
      "metadata": {
        "id": "rNXj3VwvZ0MG"
      },
      "execution_count": 4,
      "outputs": []
    },
    {
      "cell_type": "code",
      "source": [
        "def listToString(s): \n",
        "    \n",
        "    # initialize an empty string\n",
        "    str1 = \" \" \n",
        "    \n",
        "    # return string  \n",
        "    return (str1.join(s))"
      ],
      "metadata": {
        "id": "pqKHZsSkaVMM"
      },
      "execution_count": 5,
      "outputs": []
    },
    {
      "metadata": {
        "trusted": true,
        "id": "KyTuivvIR9oy"
      },
      "cell_type": "code",
      "source": [
        "# get text and intent title from json data\n",
        "inputs, targets = [], []\n",
        "classes = []\n",
        "intent_doc = {}\n",
        "\n",
        "for intent in intents['intents']:\n",
        "    if(isString(intent['tag'])):\n",
        "      if intent['tag'] not in classes:\n",
        "        classes.append(intent['tag'])\n",
        "      if intent['tag'] not in intent_doc:\n",
        "        intent_doc[intent['tag']] = []\n",
        "    else:\n",
        "      tag = listToString(intent['tag'])\n",
        "      if tag not in classes:\n",
        "        classes.append(tag)\n",
        "      if tag not in intent_doc:\n",
        "        intent_doc[tag] = []\n",
        "        \n",
        "    for text in intent['patterns']:\n",
        "        inputs.append(preprocessing(text))\n",
        "        targets.append(intent['tag'])"
      ],
      "execution_count": 6,
      "outputs": []
    },
    {
      "cell_type": "code",
      "source": [
        "len(classes)"
      ],
      "metadata": {
        "colab": {
          "base_uri": "https://localhost:8080/"
        },
        "id": "YzXVOM5LLpyw",
        "outputId": "c1c6ddc4-79b9-4bd7-b730-d9a1c1c50cc1"
      },
      "execution_count": 7,
      "outputs": [
        {
          "output_type": "execute_result",
          "data": {
            "text/plain": [
              "246"
            ]
          },
          "metadata": {},
          "execution_count": 7
        }
      ]
    },
    {
      "metadata": {
        "trusted": true,
        "id": "YLYDsC_eR9o0"
      },
      "cell_type": "code",
      "source": [
        "def tokenize_data(input_list):\n",
        "    tokenizer = tf.keras.preprocessing.text.Tokenizer(filters='', oov_token='<unk>')\n",
        "    \n",
        "    tokenizer.fit_on_texts(input_list)\n",
        "    \n",
        "    input_seq = tokenizer.texts_to_sequences(input_list)\n",
        "\n",
        "    input_seq = tf.keras.preprocessing.sequence.pad_sequences(input_seq, padding='pre')\n",
        "    \n",
        "    return tokenizer, input_seq\n",
        "\n",
        "# preprocess input data\n",
        "tokenizer, input_tensor = tokenize_data(inputs)"
      ],
      "execution_count": 8,
      "outputs": []
    },
    {
      "metadata": {
        "trusted": true,
        "id": "YofU8mZjR9o1"
      },
      "cell_type": "code",
      "source": [
        "def create_categorical_target(targets):\n",
        "    word={}\n",
        "    categorical_target=[]\n",
        "    counter=0\n",
        "    for trg in targets:\n",
        "        x = trg[0]\n",
        "        if x not in word:\n",
        "            word[x]=counter\n",
        "            counter+=1\n",
        "        categorical_target.append(word[x])\n",
        "    \n",
        "    categorical_tensor = tf.keras.utils.to_categorical(categorical_target, num_classes=len(word), dtype='int32')\n",
        "    return categorical_tensor, dict((v,k) for k, v in word.items())\n",
        "\n",
        "# preprocess output data\n",
        "target_tensor, trg_index_word = create_categorical_target(targets)"
      ],
      "execution_count": 9,
      "outputs": []
    },
    {
      "metadata": {
        "trusted": true,
        "colab": {
          "base_uri": "https://localhost:8080/"
        },
        "id": "9BPyeu45R9o1",
        "outputId": "19e61576-68c0-420c-b978-b47a22431e08"
      },
      "cell_type": "code",
      "source": [
        "print('input shape: {} and output shape: {}'.format(input_tensor.shape, target_tensor.shape))"
      ],
      "execution_count": 10,
      "outputs": [
        {
          "output_type": "stream",
          "name": "stdout",
          "text": [
            "input shape: (1457, 39) and output shape: (1457, 246)\n"
          ]
        }
      ]
    },
    {
      "metadata": {
        "id": "nLueR8WKR9o2"
      },
      "cell_type": "markdown",
      "source": [
        "### Build the model"
      ]
    },
    {
      "cell_type": "code",
      "source": [
        "from sklearn.model_selection import train_test_split\n",
        "X_train, X_test, Y_train, Y_test = train_test_split(input_tensor,target_tensor,test_size=0.15)"
      ],
      "metadata": {
        "id": "trv9oXR8eNtt"
      },
      "execution_count": 11,
      "outputs": []
    },
    {
      "metadata": {
        "trusted": true,
        "id": "NyeXCFXMR9o3"
      },
      "cell_type": "code",
      "source": [
        "# hyperparameters\n",
        "epochs=50\n",
        "vocab_size=len(tokenizer.word_index) + 1\n",
        "embed_dim=256\n",
        "units=128\n",
        "target_length=target_tensor.shape[1]"
      ],
      "execution_count": 12,
      "outputs": []
    },
    {
      "metadata": {
        "trusted": true,
        "colab": {
          "base_uri": "https://localhost:8080/"
        },
        "id": "0bbFCT_QR9o3",
        "outputId": "90dc35c4-057d-4c9d-8b52-ee708e803a00"
      },
      "cell_type": "code",
      "source": [
        "# build RNN Model with tensorflow\n",
        "model = tf.keras.models.Sequential([\n",
        "    tf.keras.layers.Embedding(vocab_size, embed_dim),\n",
        "    tf.keras.layers.LSTM(units, dropout=0.3),\n",
        "    tf.keras.layers.Dense(units, activation='tanh'),\n",
        "    tf.keras.layers.Dropout(0.3),\n",
        "    tf.keras.layers.Dense(64, activation='tanh'),\n",
        "    tf.keras.layers.Dropout(0.3),\n",
        "     tf.keras.layers.Dense(64, activation='relu'),\n",
        "    tf.keras.layers.Dropout(0.3),\n",
        "    tf.keras.layers.Dense(target_length, activation='softmax')\n",
        "])\n",
        "optimizer = tf.keras.optimizers.Adam(lr=1e-3)\n",
        "model.compile(optimizer=optimizer, loss='categorical_crossentropy', metrics=['accuracy'])\n",
        "model.summary()"
      ],
      "execution_count": 13,
      "outputs": [
        {
          "output_type": "stream",
          "name": "stdout",
          "text": [
            "Model: \"sequential\"\n",
            "_________________________________________________________________\n",
            " Layer (type)                Output Shape              Param #   \n",
            "=================================================================\n",
            " embedding (Embedding)       (None, None, 256)         256256    \n",
            "                                                                 \n",
            " lstm (LSTM)                 (None, 128)               197120    \n",
            "                                                                 \n",
            " dense (Dense)               (None, 128)               16512     \n",
            "                                                                 \n",
            " dropout (Dropout)           (None, 128)               0         \n",
            "                                                                 \n",
            " dense_1 (Dense)             (None, 64)                8256      \n",
            "                                                                 \n",
            " dropout_1 (Dropout)         (None, 64)                0         \n",
            "                                                                 \n",
            " dense_2 (Dense)             (None, 64)                4160      \n",
            "                                                                 \n",
            " dropout_2 (Dropout)         (None, 64)                0         \n",
            "                                                                 \n",
            " dense_3 (Dense)             (None, 246)               15990     \n",
            "                                                                 \n",
            "=================================================================\n",
            "Total params: 498,294\n",
            "Trainable params: 498,294\n",
            "Non-trainable params: 0\n",
            "_________________________________________________________________\n"
          ]
        },
        {
          "output_type": "stream",
          "name": "stderr",
          "text": [
            "/usr/local/lib/python3.7/dist-packages/keras/optimizer_v2/adam.py:105: UserWarning: The `lr` argument is deprecated, use `learning_rate` instead.\n",
            "  super(Adam, self).__init__(name, **kwargs)\n"
          ]
        }
      ]
    },
    {
      "cell_type": "code",
      "source": [
        "# early_stop = tf.keras.callbacks.EarlyStopping(monitor='loss', patience=4)\n",
        "\n",
        "# train the model\n",
        "# model.fit(input_tensor, target_tensor, epochs=epochs)\n",
        "from keras.callbacks import History\n",
        "history = History()\n",
        "m = model.fit(X_train, Y_train, validation_data = (X_test, Y_test), batch_size = 5,\n",
        "                   epochs = 50, callbacks = [history]) "
      ],
      "metadata": {
        "colab": {
          "base_uri": "https://localhost:8080/"
        },
        "id": "BoxRL4tfRRuY",
        "outputId": "9ecf5423-f0c5-483a-f2e8-02c0afc6a8be"
      },
      "execution_count": 14,
      "outputs": [
        {
          "output_type": "stream",
          "name": "stdout",
          "text": [
            "Epoch 1/50\n",
            "248/248 [==============================] - 11s 20ms/step - loss: 5.1383 - accuracy: 0.0210 - val_loss: 4.6103 - val_accuracy: 0.0365\n",
            "Epoch 2/50\n",
            "248/248 [==============================] - 4s 15ms/step - loss: 4.0684 - accuracy: 0.0985 - val_loss: 3.6007 - val_accuracy: 0.1598\n",
            "Epoch 3/50\n",
            "248/248 [==============================] - 4s 16ms/step - loss: 3.2075 - accuracy: 0.2310 - val_loss: 2.8502 - val_accuracy: 0.4612\n",
            "Epoch 4/50\n",
            "248/248 [==============================] - 4s 15ms/step - loss: 2.5847 - accuracy: 0.3772 - val_loss: 2.4287 - val_accuracy: 0.4795\n",
            "Epoch 5/50\n",
            "248/248 [==============================] - 4s 16ms/step - loss: 2.1511 - accuracy: 0.4984 - val_loss: 2.0339 - val_accuracy: 0.6530\n",
            "Epoch 6/50\n",
            "248/248 [==============================] - 4s 16ms/step - loss: 1.8387 - accuracy: 0.5614 - val_loss: 1.9706 - val_accuracy: 0.6393\n",
            "Epoch 7/50\n",
            "248/248 [==============================] - 4s 15ms/step - loss: 1.6320 - accuracy: 0.5953 - val_loss: 1.7428 - val_accuracy: 0.7169\n",
            "Epoch 8/50\n",
            "248/248 [==============================] - 4s 16ms/step - loss: 1.4294 - accuracy: 0.6422 - val_loss: 1.7288 - val_accuracy: 0.7078\n",
            "Epoch 9/50\n",
            "248/248 [==============================] - 4s 16ms/step - loss: 1.3019 - accuracy: 0.6721 - val_loss: 1.6929 - val_accuracy: 0.7260\n",
            "Epoch 10/50\n",
            "248/248 [==============================] - 4s 16ms/step - loss: 1.1656 - accuracy: 0.7052 - val_loss: 1.5740 - val_accuracy: 0.7534\n",
            "Epoch 11/50\n",
            "248/248 [==============================] - 4s 16ms/step - loss: 1.1188 - accuracy: 0.7229 - val_loss: 1.6450 - val_accuracy: 0.7443\n",
            "Epoch 12/50\n",
            "248/248 [==============================] - 4s 16ms/step - loss: 0.9872 - accuracy: 0.7464 - val_loss: 1.6404 - val_accuracy: 0.7534\n",
            "Epoch 13/50\n",
            "248/248 [==============================] - 4s 15ms/step - loss: 0.9150 - accuracy: 0.7658 - val_loss: 1.5879 - val_accuracy: 0.7717\n",
            "Epoch 14/50\n",
            "248/248 [==============================] - 4s 16ms/step - loss: 0.8631 - accuracy: 0.7746 - val_loss: 1.5831 - val_accuracy: 0.7900\n",
            "Epoch 15/50\n",
            "248/248 [==============================] - 4s 16ms/step - loss: 0.8754 - accuracy: 0.7641 - val_loss: 1.6194 - val_accuracy: 0.7854\n",
            "Epoch 16/50\n",
            "248/248 [==============================] - 4s 16ms/step - loss: 0.7862 - accuracy: 0.7997 - val_loss: 1.4753 - val_accuracy: 0.7854\n",
            "Epoch 17/50\n",
            "248/248 [==============================] - 4s 16ms/step - loss: 0.7155 - accuracy: 0.8191 - val_loss: 1.6334 - val_accuracy: 0.7900\n",
            "Epoch 18/50\n",
            "248/248 [==============================] - 4s 15ms/step - loss: 0.6187 - accuracy: 0.8352 - val_loss: 1.6045 - val_accuracy: 0.8037\n",
            "Epoch 19/50\n",
            "248/248 [==============================] - 4s 16ms/step - loss: 0.6039 - accuracy: 0.8360 - val_loss: 1.7138 - val_accuracy: 0.7854\n",
            "Epoch 20/50\n",
            "248/248 [==============================] - 4s 16ms/step - loss: 0.6443 - accuracy: 0.8279 - val_loss: 1.6847 - val_accuracy: 0.7991\n",
            "Epoch 21/50\n",
            "248/248 [==============================] - 4s 15ms/step - loss: 0.5866 - accuracy: 0.8449 - val_loss: 1.6702 - val_accuracy: 0.7945\n",
            "Epoch 22/50\n",
            "248/248 [==============================] - 4s 16ms/step - loss: 0.5774 - accuracy: 0.8344 - val_loss: 1.8008 - val_accuracy: 0.7763\n",
            "Epoch 23/50\n",
            "248/248 [==============================] - 4s 16ms/step - loss: 0.5067 - accuracy: 0.8627 - val_loss: 1.7905 - val_accuracy: 0.7991\n",
            "Epoch 24/50\n",
            "248/248 [==============================] - 4s 15ms/step - loss: 0.5014 - accuracy: 0.8586 - val_loss: 1.8376 - val_accuracy: 0.7900\n",
            "Epoch 25/50\n",
            "248/248 [==============================] - 4s 16ms/step - loss: 0.4585 - accuracy: 0.8716 - val_loss: 1.8601 - val_accuracy: 0.8082\n",
            "Epoch 26/50\n",
            "248/248 [==============================] - 4s 16ms/step - loss: 0.4976 - accuracy: 0.8506 - val_loss: 1.8500 - val_accuracy: 0.8082\n",
            "Epoch 27/50\n",
            "248/248 [==============================] - 4s 16ms/step - loss: 0.4837 - accuracy: 0.8546 - val_loss: 1.9175 - val_accuracy: 0.8128\n",
            "Epoch 28/50\n",
            "248/248 [==============================] - 4s 16ms/step - loss: 0.4428 - accuracy: 0.8675 - val_loss: 1.9797 - val_accuracy: 0.8128\n",
            "Epoch 29/50\n",
            "248/248 [==============================] - 4s 15ms/step - loss: 0.4825 - accuracy: 0.8651 - val_loss: 1.9652 - val_accuracy: 0.8128\n",
            "Epoch 30/50\n",
            "248/248 [==============================] - 4s 16ms/step - loss: 0.4887 - accuracy: 0.8578 - val_loss: 2.1197 - val_accuracy: 0.8174\n",
            "Epoch 31/50\n",
            "248/248 [==============================] - 4s 15ms/step - loss: 0.4462 - accuracy: 0.8675 - val_loss: 2.1057 - val_accuracy: 0.8174\n",
            "Epoch 32/50\n",
            "248/248 [==============================] - 4s 16ms/step - loss: 0.4247 - accuracy: 0.8805 - val_loss: 2.1210 - val_accuracy: 0.8082\n",
            "Epoch 33/50\n",
            "248/248 [==============================] - 4s 16ms/step - loss: 0.4056 - accuracy: 0.8659 - val_loss: 2.1724 - val_accuracy: 0.8356\n",
            "Epoch 34/50\n",
            "248/248 [==============================] - 4s 15ms/step - loss: 0.3588 - accuracy: 0.8877 - val_loss: 2.2065 - val_accuracy: 0.8219\n",
            "Epoch 35/50\n",
            "248/248 [==============================] - 4s 15ms/step - loss: 0.3169 - accuracy: 0.9063 - val_loss: 2.2779 - val_accuracy: 0.8265\n",
            "Epoch 36/50\n",
            "248/248 [==============================] - 4s 16ms/step - loss: 0.3569 - accuracy: 0.8877 - val_loss: 2.2218 - val_accuracy: 0.8082\n",
            "Epoch 37/50\n",
            "248/248 [==============================] - 4s 16ms/step - loss: 0.3488 - accuracy: 0.8950 - val_loss: 2.1760 - val_accuracy: 0.8311\n",
            "Epoch 38/50\n",
            "248/248 [==============================] - 4s 16ms/step - loss: 0.3819 - accuracy: 0.8869 - val_loss: 2.2698 - val_accuracy: 0.8082\n",
            "Epoch 39/50\n",
            "248/248 [==============================] - 4s 16ms/step - loss: 0.3298 - accuracy: 0.8974 - val_loss: 2.3484 - val_accuracy: 0.8219\n",
            "Epoch 40/50\n",
            "248/248 [==============================] - 4s 16ms/step - loss: 0.3386 - accuracy: 0.8853 - val_loss: 2.3017 - val_accuracy: 0.8128\n",
            "Epoch 41/50\n",
            "248/248 [==============================] - 4s 16ms/step - loss: 0.3418 - accuracy: 0.8974 - val_loss: 2.3631 - val_accuracy: 0.8265\n",
            "Epoch 42/50\n",
            "248/248 [==============================] - 4s 16ms/step - loss: 0.2909 - accuracy: 0.9120 - val_loss: 2.4554 - val_accuracy: 0.8402\n",
            "Epoch 43/50\n",
            "248/248 [==============================] - 4s 15ms/step - loss: 0.3553 - accuracy: 0.8901 - val_loss: 2.4405 - val_accuracy: 0.8219\n",
            "Epoch 44/50\n",
            "248/248 [==============================] - 4s 16ms/step - loss: 0.3159 - accuracy: 0.8934 - val_loss: 2.6749 - val_accuracy: 0.8082\n",
            "Epoch 45/50\n",
            "248/248 [==============================] - 4s 15ms/step - loss: 0.2868 - accuracy: 0.9120 - val_loss: 2.4777 - val_accuracy: 0.8356\n",
            "Epoch 46/50\n",
            "248/248 [==============================] - 4s 16ms/step - loss: 0.3081 - accuracy: 0.9063 - val_loss: 2.5938 - val_accuracy: 0.8219\n",
            "Epoch 47/50\n",
            "248/248 [==============================] - 4s 16ms/step - loss: 0.3276 - accuracy: 0.8958 - val_loss: 2.5975 - val_accuracy: 0.7808\n",
            "Epoch 48/50\n",
            "248/248 [==============================] - 4s 16ms/step - loss: 0.3231 - accuracy: 0.8958 - val_loss: 2.5890 - val_accuracy: 0.8265\n",
            "Epoch 49/50\n",
            "248/248 [==============================] - 4s 16ms/step - loss: 0.2926 - accuracy: 0.8966 - val_loss: 2.5339 - val_accuracy: 0.8174\n",
            "Epoch 50/50\n",
            "248/248 [==============================] - 4s 16ms/step - loss: 0.3374 - accuracy: 0.8950 - val_loss: 2.5606 - val_accuracy: 0.8174\n"
          ]
        }
      ]
    },
    {
      "metadata": {
        "trusted": true,
        "id": "1dnHj1cnR9o5",
        "colab": {
          "base_uri": "https://localhost:8080/",
          "height": 573
        },
        "outputId": "f469d1c1-aab6-4f2c-ccaa-c290580e66cc"
      },
      "cell_type": "code",
      "source": [
        "import matplotlib.pyplot as plt\n",
        "plt.plot(m.history['accuracy'])\n",
        "plt.plot(m.history['val_accuracy'])\n",
        "plt.title('model accuracy')\n",
        "plt.ylabel('accuracy')\n",
        "plt.xlabel('epoch')\n",
        "plt.legend(['train', 'test'], loc='upper left')\n",
        "plt.grid()\n",
        "plt.show()\n",
        "\n",
        "plt.plot(m.history['loss'])\n",
        "plt.plot(m.history['val_loss'])\n",
        "plt.title('model loss')\n",
        "plt.ylabel('loss')\n",
        "plt.xlabel('epoch')\n",
        "plt.legend(['train', 'test'], loc='upper left')\n",
        "plt.grid()"
      ],
      "execution_count": 16,
      "outputs": [
        {
          "output_type": "display_data",
          "data": {
            "text/plain": [
              "<Figure size 432x288 with 1 Axes>"
            ],
            "image/png": "[encoded data removed]"
          },
          "metadata": {
            "needs_background": "light"
          }
        },
        {
          "output_type": "display_data",
          "data": {
            "text/plain": [
              "<Figure size 432x288 with 1 Axes>"
            ],
            "image/png": "[encoded data removed]"
          },
          "metadata": {
            "needs_background": "light"
          }
        }
      ]
    }
  ],
  "metadata": {
    "kernelspec": {
      "name": "python3",
      "display_name": "Python 3",
      "language": "python"
    },
    "language_info": {
      "name": "python",
      "version": "3.7.6",
      "mimetype": "text/x-python",
      "codemirror_mode": {
        "name": "ipython",
        "version": 3
      },
      "pygments_lexer": "ipython3",
      "nbconvert_exporter": "python",
      "file_extension": ".py"
    },
    "colab": {
      "name": "Trial 21/3 LSTM.ipynb",
      "provenance": [],
      "collapsed_sections": []
    },
    "accelerator": "GPU"
  },
  "nbformat": 4,
  "nbformat_minor": 0
}