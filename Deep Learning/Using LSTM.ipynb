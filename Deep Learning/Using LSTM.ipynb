{
  "cells": [
    {
      "metadata": {
        "id": "xpecFFrBR9op"
      },
      "cell_type": "markdown",
      "source": [
        "### Import libraries"
      ]
    },
    {
      "metadata": {
        "_uuid": "8f2839f25d086af736a60e9eeb907d3b93b6e0e5",
        "_cell_guid": "b1076dfc-b9ad-4769-8c92-a6c4dae69d19",
        "trusted": true,
        "id": "wBlD7HIxR9ou"
      },
      "cell_type": "code",
      "source": [
        "import numpy as np\n",
        "import json\n",
        "import re\n",
        "import tensorflow as tf\n",
        "import random\n",
        "import spacy\n",
        "nlp = spacy.load('en_core_web_sm')"
      ],
      "execution_count": null,
      "outputs": []
    },
    {
      "metadata": {
        "id": "mrLzfx1aR9ow"
      },
      "cell_type": "markdown",
      "source": [
        "### Import json file"
      ]
    },
    {
      "metadata": {
        "_uuid": "d629ff2d2480ee46fbb7e2d37f6b5fab8052498a",
        "_cell_guid": "79c7e3d0-c299-4dcb-8224-4455121ee9b0",
        "trusted": true,
        "id": "9vo5REmqR9ox"
      },
      "cell_type": "code",
      "source": [
        "with open('intents_2.json') as f:\n",
        "    intents = json.load(f)"
      ],
      "execution_count": null,
      "outputs": []
    },
    {
      "metadata": {
        "id": "h50v_EWfR9ox"
      },
      "cell_type": "markdown",
      "source": [
        "### Preprocessing data\n",
        "In this part we gonna clean data, split them into inputs and targets tensor, build a tokenizer dictionary and turn sentences into sequences.\n",
        "The target tensor has a bunch of list with a length of unique title list."
      ]
    },
    {
      "metadata": {
        "trusted": true,
        "id": "9q6ks38qR9oy"
      },
      "cell_type": "code",
      "source": [
        "def preprocessing(line):\n",
        "    line = re.sub(r'[^a-zA-z.?!\\']', ' ', line)\n",
        "    line = re.sub(r'[ ]+', ' ', line)\n",
        "    return line"
      ],
      "execution_count": null,
      "outputs": []
    },
    {
      "cell_type": "code",
      "source": [
        "def isString(x):\n",
        "  return isinstance(x, str)"
      ],
      "metadata": {
        "id": "rNXj3VwvZ0MG"
      },
      "execution_count": null,
      "outputs": []
    },
    {
      "cell_type": "code",
      "source": [
        "def listToString(s): \n",
        "    \n",
        "    # initialize an empty string\n",
        "    str1 = \" \" \n",
        "    \n",
        "    # return string  \n",
        "    return (str1.join(s))"
      ],
      "metadata": {
        "id": "pqKHZsSkaVMM"
      },
      "execution_count": null,
      "outputs": []
    },
    {
      "metadata": {
        "trusted": true,
        "id": "KyTuivvIR9oy"
      },
      "cell_type": "code",
      "source": [
        "# get text and intent title from json data\n",
        "inputs, targets = [], []\n",
        "classes = []\n",
        "intent_doc = {}\n",
        "\n",
        "for intent in intents['intents']:\n",
        "    if(isString(intent['tag'])):\n",
        "      if intent['tag'] not in classes:\n",
        "        classes.append(intent['tag'])\n",
        "      if intent['tag'] not in intent_doc:\n",
        "        intent_doc[intent['tag']] = []\n",
        "    else:\n",
        "      tag = listToString(intent['tag'])\n",
        "      if tag not in classes:\n",
        "        classes.append(tag)\n",
        "      if tag not in intent_doc:\n",
        "        intent_doc[tag] = []\n",
        "        \n",
        "    for text in intent['patterns']:\n",
        "        inputs.append(preprocessing(text))\n",
        "        targets.append(intent['tag'])"
      ],
      "execution_count": null,
      "outputs": []
    },
    {
      "metadata": {
        "trusted": true,
        "id": "YLYDsC_eR9o0"
      },
      "cell_type": "code",
      "source": [
        "def tokenize_data(input_list):\n",
        "    tokenizer = tf.keras.preprocessing.text.Tokenizer(filters='', oov_token='<unk>')\n",
        "    \n",
        "    tokenizer.fit_on_texts(input_list)\n",
        "    \n",
        "    input_seq = tokenizer.texts_to_sequences(input_list)\n",
        "\n",
        "    input_seq = tf.keras.preprocessing.sequence.pad_sequences(input_seq, padding='pre')\n",
        "    \n",
        "    return tokenizer, input_seq\n",
        "\n",
        "# preprocess input data\n",
        "tokenizer, input_tensor = tokenize_data(inputs)"
      ],
      "execution_count": null,
      "outputs": []
    },
    {
      "metadata": {
        "trusted": true,
        "id": "YofU8mZjR9o1"
      },
      "cell_type": "code",
      "source": [
        "def create_categorical_target(targets):\n",
        "    word={}\n",
        "    categorical_target=[]\n",
        "    counter=0\n",
        "    for trg in targets:\n",
        "        x = trg[0]\n",
        "        if x not in word:\n",
        "            word[x]=counter\n",
        "            counter+=1\n",
        "        categorical_target.append(word[x])\n",
        "    \n",
        "    categorical_tensor = tf.keras.utils.to_categorical(categorical_target, num_classes=len(word), dtype='int32')\n",
        "    return categorical_tensor, dict((v,k) for k, v in word.items())\n",
        "\n",
        "# preprocess output data\n",
        "target_tensor, trg_index_word = create_categorical_target(targets)"
      ],
      "execution_count": null,
      "outputs": []
    },
    {
      "metadata": {
        "trusted": true,
        "colab": {
          "base_uri": "https://localhost:8080/"
        },
        "id": "9BPyeu45R9o1",
        "outputId": "5dd2ca80-5f56-492f-df42-1c94120b757a"
      },
      "cell_type": "code",
      "source": [
        "print('input shape: {} and output shape: {}'.format(input_tensor.shape, target_tensor.shape))"
      ],
      "execution_count": null,
      "outputs": [
        {
          "output_type": "stream",
          "name": "stdout",
          "text": [
            "input shape: (1457, 39) and output shape: (1457, 221)\n"
          ]
        }
      ]
    },
    {
      "metadata": {
        "id": "nLueR8WKR9o2"
      },
      "cell_type": "markdown",
      "source": [
        "### Build the model"
      ]
    },
    {
      "cell_type": "code",
      "source": [
        "from sklearn.model_selection import train_test_split\n",
        "X_train, X_test, Y_train, Y_test = train_test_split(input_tensor,target_tensor,test_size=0.15)"
      ],
      "metadata": {
        "id": "trv9oXR8eNtt"
      },
      "execution_count": null,
      "outputs": []
    },
    {
      "metadata": {
        "trusted": true,
        "id": "NyeXCFXMR9o3"
      },
      "cell_type": "code",
      "source": [
        "# hyperparameters\n",
        "epochs=50\n",
        "vocab_size=len(tokenizer.word_index) + 1\n",
        "embed_dim=256\n",
        "units=128\n",
        "target_length=target_tensor.shape[1]"
      ],
      "execution_count": null,
      "outputs": []
    },
    {
      "metadata": {
        "trusted": true,
        "colab": {
          "base_uri": "https://localhost:8080/"
        },
        "id": "0bbFCT_QR9o3",
        "outputId": "64835a80-87a0-40af-9f08-056a54cf4950"
      },
      "cell_type": "code",
      "source": [
        "# build RNN Model with tensorflow\n",
        "model = tf.keras.models.Sequential([\n",
        "    tf.keras.layers.Embedding(vocab_size, embed_dim),\n",
        "    tf.keras.layers.LSTM(units, dropout=0.3),\n",
        "    tf.keras.layers.Dense(units, activation='tanh'),\n",
        "    tf.keras.layers.Dropout(0.3),\n",
        "    tf.keras.layers.Dense(64, activation='tanh'),\n",
        "    tf.keras.layers.Dropout(0.3),\n",
        "     tf.keras.layers.Dense(64, activation='relu'),\n",
        "    tf.keras.layers.Dropout(0.3),\n",
        "    tf.keras.layers.Dense(target_length, activation='softmax')\n",
        "])\n",
        "optimizer = tf.keras.optimizers.Adam(lr=1e-3)\n",
        "model.compile(optimizer=optimizer, loss='categorical_crossentropy', metrics=['accuracy'])\n",
        "model.summary()"
      ],
      "execution_count": null,
      "outputs": [
        {
          "output_type": "stream",
          "name": "stdout",
          "text": [
            "Model: \"sequential\"\n",
            "_________________________________________________________________\n",
            " Layer (type)                Output Shape              Param #   \n",
            "=================================================================\n",
            " embedding (Embedding)       (None, None, 256)         256256    \n",
            "                                                                 \n",
            " lstm (LSTM)                 (None, 128)               197120    \n",
            "                                                                 \n",
            " dense (Dense)               (None, 128)               16512     \n",
            "                                                                 \n",
            " dropout (Dropout)           (None, 128)               0         \n",
            "                                                                 \n",
            " dense_1 (Dense)             (None, 64)                8256      \n",
            "                                                                 \n",
            " dropout_1 (Dropout)         (None, 64)                0         \n",
            "                                                                 \n",
            " dense_2 (Dense)             (None, 64)                4160      \n",
            "                                                                 \n",
            " dropout_2 (Dropout)         (None, 64)                0         \n",
            "                                                                 \n",
            " dense_3 (Dense)             (None, 221)               14365     \n",
            "                                                                 \n",
            "=================================================================\n",
            "Total params: 496,669\n",
            "Trainable params: 496,669\n",
            "Non-trainable params: 0\n",
            "_________________________________________________________________\n"
          ]
        },
        {
          "output_type": "stream",
          "name": "stderr",
          "text": [
            "/usr/local/lib/python3.7/dist-packages/keras/optimizer_v2/adam.py:105: UserWarning: The `lr` argument is deprecated, use `learning_rate` instead.\n",
            "  super(Adam, self).__init__(name, **kwargs)\n"
          ]
        }
      ]
    },
    {
      "cell_type": "code",
      "source": [
        "# early_stop = tf.keras.callbacks.EarlyStopping(monitor='loss', patience=4)\n",
        "\n",
        "# train the model\n",
        "# model.fit(input_tensor, target_tensor, epochs=epochs)\n",
        "from keras.callbacks import History\n",
        "history = History()\n",
        "m = model.fit(X_train, Y_train, validation_data = (X_test, Y_test), batch_size = 5,\n",
        "                   epochs = 50, callbacks = [history]) "
      ],
      "metadata": {
        "colab": {
          "base_uri": "https://localhost:8080/"
        },
        "id": "BoxRL4tfRRuY",
        "outputId": "902c8970-1d71-44bf-ce47-14eb6bbcf597"
      },
      "execution_count": null,
      "outputs": [
        {
          "output_type": "stream",
          "name": "stdout",
          "text": [
            "Epoch 1/50\n",
            "248/248 [==============================] - 9s 9ms/step - loss: 4.9862 - accuracy: 0.0250 - val_loss: 4.4014 - val_accuracy: 0.0411\n",
            "Epoch 2/50\n",
            "248/248 [==============================] - 2s 7ms/step - loss: 3.7824 - accuracy: 0.1155 - val_loss: 3.2775 - val_accuracy: 0.2785\n",
            "Epoch 3/50\n",
            "248/248 [==============================] - 2s 7ms/step - loss: 2.9630 - accuracy: 0.2488 - val_loss: 2.6749 - val_accuracy: 0.4018\n",
            "Epoch 4/50\n",
            "248/248 [==============================] - 2s 7ms/step - loss: 2.4366 - accuracy: 0.3683 - val_loss: 2.0819 - val_accuracy: 0.6621\n",
            "Epoch 5/50\n",
            "248/248 [==============================] - 2s 7ms/step - loss: 2.0006 - accuracy: 0.4992 - val_loss: 1.9267 - val_accuracy: 0.6484\n",
            "Epoch 6/50\n",
            "248/248 [==============================] - 2s 7ms/step - loss: 1.7487 - accuracy: 0.5557 - val_loss: 1.6542 - val_accuracy: 0.7078\n",
            "Epoch 7/50\n",
            "248/248 [==============================] - 2s 7ms/step - loss: 1.5715 - accuracy: 0.5856 - val_loss: 1.7508 - val_accuracy: 0.7215\n",
            "Epoch 8/50\n",
            "248/248 [==============================] - 2s 7ms/step - loss: 1.3214 - accuracy: 0.6834 - val_loss: 1.5469 - val_accuracy: 0.7854\n",
            "Epoch 9/50\n",
            "248/248 [==============================] - 2s 7ms/step - loss: 1.1704 - accuracy: 0.7108 - val_loss: 1.6257 - val_accuracy: 0.7763\n",
            "Epoch 10/50\n",
            "248/248 [==============================] - 2s 7ms/step - loss: 1.1486 - accuracy: 0.7027 - val_loss: 1.6354 - val_accuracy: 0.7945\n",
            "Epoch 11/50\n",
            "248/248 [==============================] - 2s 7ms/step - loss: 1.0450 - accuracy: 0.7367 - val_loss: 1.7470 - val_accuracy: 0.7808\n",
            "Epoch 12/50\n",
            "248/248 [==============================] - 2s 7ms/step - loss: 0.9901 - accuracy: 0.7431 - val_loss: 1.7665 - val_accuracy: 0.7945\n",
            "Epoch 13/50\n",
            "248/248 [==============================] - 2s 7ms/step - loss: 0.9051 - accuracy: 0.7851 - val_loss: 1.6400 - val_accuracy: 0.7991\n",
            "Epoch 14/50\n",
            "248/248 [==============================] - 2s 6ms/step - loss: 0.8232 - accuracy: 0.7964 - val_loss: 1.7434 - val_accuracy: 0.7991\n",
            "Epoch 15/50\n",
            "248/248 [==============================] - 2s 7ms/step - loss: 0.8161 - accuracy: 0.7924 - val_loss: 1.7054 - val_accuracy: 0.8128\n",
            "Epoch 16/50\n",
            "248/248 [==============================] - 2s 7ms/step - loss: 0.7765 - accuracy: 0.8021 - val_loss: 1.9171 - val_accuracy: 0.7945\n",
            "Epoch 17/50\n",
            "248/248 [==============================] - 2s 7ms/step - loss: 0.7139 - accuracy: 0.8158 - val_loss: 1.8525 - val_accuracy: 0.7991\n",
            "Epoch 18/50\n",
            "248/248 [==============================] - 2s 7ms/step - loss: 0.6912 - accuracy: 0.8126 - val_loss: 1.7363 - val_accuracy: 0.8037\n",
            "Epoch 19/50\n",
            "248/248 [==============================] - 2s 7ms/step - loss: 0.7026 - accuracy: 0.8150 - val_loss: 1.8662 - val_accuracy: 0.7854\n",
            "Epoch 20/50\n",
            "248/248 [==============================] - 2s 7ms/step - loss: 0.6709 - accuracy: 0.8207 - val_loss: 1.9020 - val_accuracy: 0.8128\n",
            "Epoch 21/50\n",
            "248/248 [==============================] - 2s 7ms/step - loss: 0.6269 - accuracy: 0.8393 - val_loss: 2.1382 - val_accuracy: 0.8174\n",
            "Epoch 22/50\n",
            "248/248 [==============================] - 2s 7ms/step - loss: 0.5742 - accuracy: 0.8489 - val_loss: 2.1373 - val_accuracy: 0.8128\n",
            "Epoch 23/50\n",
            "248/248 [==============================] - 2s 6ms/step - loss: 0.5649 - accuracy: 0.8465 - val_loss: 2.0565 - val_accuracy: 0.8174\n",
            "Epoch 24/50\n",
            "248/248 [==============================] - 2s 7ms/step - loss: 0.5535 - accuracy: 0.8481 - val_loss: 2.1817 - val_accuracy: 0.8356\n",
            "Epoch 25/50\n",
            "248/248 [==============================] - 2s 7ms/step - loss: 0.5444 - accuracy: 0.8449 - val_loss: 2.2381 - val_accuracy: 0.8128\n",
            "Epoch 26/50\n",
            "248/248 [==============================] - 2s 7ms/step - loss: 0.6415 - accuracy: 0.8231 - val_loss: 2.2038 - val_accuracy: 0.8128\n",
            "Epoch 27/50\n",
            "248/248 [==============================] - 2s 6ms/step - loss: 0.5386 - accuracy: 0.8538 - val_loss: 2.3357 - val_accuracy: 0.8128\n",
            "Epoch 28/50\n",
            "248/248 [==============================] - 2s 7ms/step - loss: 0.4618 - accuracy: 0.8780 - val_loss: 2.3674 - val_accuracy: 0.8128\n",
            "Epoch 29/50\n",
            "248/248 [==============================] - 2s 7ms/step - loss: 0.4925 - accuracy: 0.8683 - val_loss: 2.3840 - val_accuracy: 0.8082\n",
            "Epoch 30/50\n",
            "248/248 [==============================] - 2s 7ms/step - loss: 0.4602 - accuracy: 0.8570 - val_loss: 2.4281 - val_accuracy: 0.8265\n",
            "Epoch 31/50\n",
            "248/248 [==============================] - 2s 7ms/step - loss: 0.4146 - accuracy: 0.8708 - val_loss: 2.4492 - val_accuracy: 0.8174\n",
            "Epoch 32/50\n",
            "248/248 [==============================] - 2s 7ms/step - loss: 0.4191 - accuracy: 0.8756 - val_loss: 2.5757 - val_accuracy: 0.8265\n",
            "Epoch 33/50\n",
            "248/248 [==============================] - 2s 7ms/step - loss: 0.4271 - accuracy: 0.8780 - val_loss: 2.5783 - val_accuracy: 0.8311\n",
            "Epoch 34/50\n",
            "248/248 [==============================] - 2s 7ms/step - loss: 0.3802 - accuracy: 0.8877 - val_loss: 2.6712 - val_accuracy: 0.8311\n",
            "Epoch 35/50\n",
            "248/248 [==============================] - 2s 7ms/step - loss: 0.4083 - accuracy: 0.8805 - val_loss: 2.6303 - val_accuracy: 0.8082\n",
            "Epoch 36/50\n",
            "248/248 [==============================] - 2s 7ms/step - loss: 0.4340 - accuracy: 0.8764 - val_loss: 2.5960 - val_accuracy: 0.8174\n",
            "Epoch 37/50\n",
            "248/248 [==============================] - 2s 7ms/step - loss: 0.4017 - accuracy: 0.8821 - val_loss: 2.6787 - val_accuracy: 0.8128\n",
            "Epoch 38/50\n",
            "248/248 [==============================] - 2s 7ms/step - loss: 0.3481 - accuracy: 0.8901 - val_loss: 2.7131 - val_accuracy: 0.8174\n",
            "Epoch 39/50\n",
            "248/248 [==============================] - 2s 7ms/step - loss: 0.3554 - accuracy: 0.8918 - val_loss: 2.7401 - val_accuracy: 0.8128\n",
            "Epoch 40/50\n",
            "248/248 [==============================] - 2s 7ms/step - loss: 0.3574 - accuracy: 0.8934 - val_loss: 2.7710 - val_accuracy: 0.8174\n",
            "Epoch 41/50\n",
            "248/248 [==============================] - 2s 7ms/step - loss: 0.3286 - accuracy: 0.9015 - val_loss: 2.8316 - val_accuracy: 0.8356\n",
            "Epoch 42/50\n",
            "248/248 [==============================] - 2s 7ms/step - loss: 0.3414 - accuracy: 0.8934 - val_loss: 2.7393 - val_accuracy: 0.8128\n",
            "Epoch 43/50\n",
            "248/248 [==============================] - 2s 7ms/step - loss: 0.3664 - accuracy: 0.8918 - val_loss: 2.8218 - val_accuracy: 0.8265\n",
            "Epoch 44/50\n",
            "248/248 [==============================] - 2s 7ms/step - loss: 0.3454 - accuracy: 0.8990 - val_loss: 2.8215 - val_accuracy: 0.8219\n",
            "Epoch 45/50\n",
            "248/248 [==============================] - 2s 7ms/step - loss: 0.3838 - accuracy: 0.8853 - val_loss: 2.7874 - val_accuracy: 0.8174\n",
            "Epoch 46/50\n",
            "248/248 [==============================] - 2s 7ms/step - loss: 0.3375 - accuracy: 0.8934 - val_loss: 2.8312 - val_accuracy: 0.8219\n",
            "Epoch 47/50\n",
            "248/248 [==============================] - 2s 7ms/step - loss: 0.3307 - accuracy: 0.8998 - val_loss: 2.8321 - val_accuracy: 0.8265\n",
            "Epoch 48/50\n",
            "248/248 [==============================] - 2s 7ms/step - loss: 0.3477 - accuracy: 0.8910 - val_loss: 2.8983 - val_accuracy: 0.8174\n",
            "Epoch 49/50\n",
            "248/248 [==============================] - 2s 6ms/step - loss: 0.3141 - accuracy: 0.9120 - val_loss: 2.7973 - val_accuracy: 0.8265\n",
            "Epoch 50/50\n",
            "248/248 [==============================] - 2s 7ms/step - loss: 0.3280 - accuracy: 0.8934 - val_loss: 2.8750 - val_accuracy: 0.8219\n"
          ]
        }
      ]
    },
    {
      "metadata": {
        "trusted": true,
        "id": "1dnHj1cnR9o5",
        "colab": {
          "base_uri": "https://localhost:8080/",
          "height": 590
        },
        "outputId": "c9fb7734-221e-4e21-9439-b63c44c9fc03"
      },
      "cell_type": "code",
      "source": [
        "import matplotlib.pyplot as plt\n",
        "plt.plot(m.history['accuracy'])\n",
        "plt.plot(m.history['val_accuracy'])\n",
        "plt.title('model accuracy')\n",
        "plt.ylabel('accuracy')\n",
        "plt.xlabel('epoch')\n",
        "plt.legend(['train', 'test'], loc='upper left')\n",
        "plt.show()\n",
        "\n",
        "plt.plot(m.history['loss'])\n",
        "plt.plot(m.history['val_loss'])\n",
        "plt.title('model loss')\n",
        "plt.ylabel('loss')\n",
        "plt.xlabel('epoch')\n",
        "plt.legend(['train', 'test'], loc='upper left')"
      ],
      "execution_count": null,
      "outputs": [
        {
          "output_type": "display_data",
          "data": {
            "image/png": "[encoded data removed]",
            "text/plain": [
              "<Figure size 432x288 with 1 Axes>"
            ]
          },
          "metadata": {
            "needs_background": "light"
          }
        },
        {
          "output_type": "execute_result",
          "data": {
            "text/plain": [
              "<matplotlib.legend.Legend at 0x7f20e3f7f050>"
            ]
          },
          "metadata": {},
          "execution_count": 14
        },
        {
          "output_type": "display_data",
          "data": {
            "image/png": "[encoded data removed]",
            "text/plain": [
              "<Figure size 432x288 with 1 Axes>"
            ]
          },
          "metadata": {
            "needs_background": "light"
          }
        }
      ]
    }
  ],
  "metadata": {
    "kernelspec": {
      "name": "python3",
      "display_name": "Python 3",
      "language": "python"
    },
    "language_info": {
      "name": "python",
      "version": "3.7.6",
      "mimetype": "text/x-python",
      "codemirror_mode": {
        "name": "ipython",
        "version": 3
      },
      "pygments_lexer": "ipython3",
      "nbconvert_exporter": "python",
      "file_extension": ".py"
    },
    "colab": {
      "name": "Final intents_2 using LSTM.ipynb",
      "provenance": [],
      "collapsed_sections": []
    },
    "accelerator": "GPU"
  },
  "nbformat": 4,
  "nbformat_minor": 0
}