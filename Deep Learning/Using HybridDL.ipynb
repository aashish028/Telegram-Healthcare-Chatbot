{
  "cells": [
    {
      "cell_type": "code",
      "execution_count": 1,
      "metadata": {
        "colab": {
          "base_uri": "https://localhost:8080/"
        },
        "id": "LHaGtKtcqwME",
        "outputId": "b4215009-128a-4cfc-a49f-87fd83cbd93e"
      },
      "outputs": [
        {
          "output_type": "stream",
          "name": "stdout",
          "text": [
            "Collecting unidecode\n",
            "  Downloading Unidecode-1.3.4-py3-none-any.whl (235 kB)\n",
            "\u001b[K     |████████████████████████████████| 235 kB 3.2 MB/s \n",
            "\u001b[?25hInstalling collected packages: unidecode\n",
            "Successfully installed unidecode-1.3.4\n"
          ]
        }
      ],
      "source": [
        "!pip install unidecode"
      ]
    },
    {
      "cell_type": "code",
      "execution_count": 2,
      "metadata": {
        "colab": {
          "base_uri": "https://localhost:8080/"
        },
        "id": "Nv1Ht24lq2hw",
        "outputId": "83295661-9495-411d-f942-c4b1f637f9ee"
      },
      "outputs": [
        {
          "output_type": "stream",
          "name": "stdout",
          "text": [
            "Requirement already satisfied: tensorflow in /usr/local/lib/python3.7/dist-packages (2.8.0)\n",
            "Requirement already satisfied: gast>=0.2.1 in /usr/local/lib/python3.7/dist-packages (from tensorflow) (0.5.3)\n",
            "Requirement already satisfied: h5py>=2.9.0 in /usr/local/lib/python3.7/dist-packages (from tensorflow) (3.1.0)\n",
            "Requirement already satisfied: protobuf>=3.9.2 in /usr/local/lib/python3.7/dist-packages (from tensorflow) (3.17.3)\n",
            "Requirement already satisfied: tensorflow-io-gcs-filesystem>=0.23.1 in /usr/local/lib/python3.7/dist-packages (from tensorflow) (0.24.0)\n",
            "Collecting tf-estimator-nightly==2.8.0.dev2021122109\n",
            "  Downloading tf_estimator_nightly-2.8.0.dev2021122109-py2.py3-none-any.whl (462 kB)\n",
            "\u001b[K     |████████████████████████████████| 462 kB 3.2 MB/s \n",
            "\u001b[?25hRequirement already satisfied: setuptools in /usr/local/lib/python3.7/dist-packages (from tensorflow) (57.4.0)\n",
            "Requirement already satisfied: opt-einsum>=2.3.2 in /usr/local/lib/python3.7/dist-packages (from tensorflow) (3.3.0)\n",
            "Requirement already satisfied: grpcio<2.0,>=1.24.3 in /usr/local/lib/python3.7/dist-packages (from tensorflow) (1.44.0)\n",
            "Requirement already satisfied: libclang>=9.0.1 in /usr/local/lib/python3.7/dist-packages (from tensorflow) (13.0.0)\n",
            "Requirement already satisfied: keras-preprocessing>=1.1.1 in /usr/local/lib/python3.7/dist-packages (from tensorflow) (1.1.2)\n",
            "Requirement already satisfied: absl-py>=0.4.0 in /usr/local/lib/python3.7/dist-packages (from tensorflow) (1.0.0)\n",
            "Requirement already satisfied: termcolor>=1.1.0 in /usr/local/lib/python3.7/dist-packages (from tensorflow) (1.1.0)\n",
            "Requirement already satisfied: keras<2.9,>=2.8.0rc0 in /usr/local/lib/python3.7/dist-packages (from tensorflow) (2.8.0)\n",
            "Requirement already satisfied: astunparse>=1.6.0 in /usr/local/lib/python3.7/dist-packages (from tensorflow) (1.6.3)\n",
            "Requirement already satisfied: tensorboard<2.9,>=2.8 in /usr/local/lib/python3.7/dist-packages (from tensorflow) (2.8.0)\n",
            "Requirement already satisfied: six>=1.12.0 in /usr/local/lib/python3.7/dist-packages (from tensorflow) (1.15.0)\n",
            "Requirement already satisfied: typing-extensions>=3.6.6 in /usr/local/lib/python3.7/dist-packages (from tensorflow) (3.10.0.2)\n",
            "Requirement already satisfied: flatbuffers>=1.12 in /usr/local/lib/python3.7/dist-packages (from tensorflow) (2.0)\n",
            "Requirement already satisfied: wrapt>=1.11.0 in /usr/local/lib/python3.7/dist-packages (from tensorflow) (1.13.3)\n",
            "Requirement already satisfied: google-pasta>=0.1.1 in /usr/local/lib/python3.7/dist-packages (from tensorflow) (0.2.0)\n",
            "Requirement already satisfied: numpy>=1.20 in /usr/local/lib/python3.7/dist-packages (from tensorflow) (1.21.5)\n",
            "Requirement already satisfied: wheel<1.0,>=0.23.0 in /usr/local/lib/python3.7/dist-packages (from astunparse>=1.6.0->tensorflow) (0.37.1)\n",
            "Requirement already satisfied: cached-property in /usr/local/lib/python3.7/dist-packages (from h5py>=2.9.0->tensorflow) (1.5.2)\n",
            "Requirement already satisfied: tensorboard-data-server<0.7.0,>=0.6.0 in /usr/local/lib/python3.7/dist-packages (from tensorboard<2.9,>=2.8->tensorflow) (0.6.1)\n",
            "Requirement already satisfied: google-auth<3,>=1.6.3 in /usr/local/lib/python3.7/dist-packages (from tensorboard<2.9,>=2.8->tensorflow) (1.35.0)\n",
            "Requirement already satisfied: requests<3,>=2.21.0 in /usr/local/lib/python3.7/dist-packages (from tensorboard<2.9,>=2.8->tensorflow) (2.23.0)\n",
            "Requirement already satisfied: google-auth-oauthlib<0.5,>=0.4.1 in /usr/local/lib/python3.7/dist-packages (from tensorboard<2.9,>=2.8->tensorflow) (0.4.6)\n",
            "Requirement already satisfied: tensorboard-plugin-wit>=1.6.0 in /usr/local/lib/python3.7/dist-packages (from tensorboard<2.9,>=2.8->tensorflow) (1.8.1)\n",
            "Requirement already satisfied: werkzeug>=0.11.15 in /usr/local/lib/python3.7/dist-packages (from tensorboard<2.9,>=2.8->tensorflow) (1.0.1)\n",
            "Requirement already satisfied: markdown>=2.6.8 in /usr/local/lib/python3.7/dist-packages (from tensorboard<2.9,>=2.8->tensorflow) (3.3.6)\n",
            "Requirement already satisfied: pyasn1-modules>=0.2.1 in /usr/local/lib/python3.7/dist-packages (from google-auth<3,>=1.6.3->tensorboard<2.9,>=2.8->tensorflow) (0.2.8)\n",
            "Requirement already satisfied: rsa<5,>=3.1.4 in /usr/local/lib/python3.7/dist-packages (from google-auth<3,>=1.6.3->tensorboard<2.9,>=2.8->tensorflow) (4.8)\n",
            "Requirement already satisfied: cachetools<5.0,>=2.0.0 in /usr/local/lib/python3.7/dist-packages (from google-auth<3,>=1.6.3->tensorboard<2.9,>=2.8->tensorflow) (4.2.4)\n",
            "Requirement already satisfied: requests-oauthlib>=0.7.0 in /usr/local/lib/python3.7/dist-packages (from google-auth-oauthlib<0.5,>=0.4.1->tensorboard<2.9,>=2.8->tensorflow) (1.3.1)\n",
            "Requirement already satisfied: importlib-metadata>=4.4 in /usr/local/lib/python3.7/dist-packages (from markdown>=2.6.8->tensorboard<2.9,>=2.8->tensorflow) (4.11.2)\n",
            "Requirement already satisfied: zipp>=0.5 in /usr/local/lib/python3.7/dist-packages (from importlib-metadata>=4.4->markdown>=2.6.8->tensorboard<2.9,>=2.8->tensorflow) (3.7.0)\n",
            "Requirement already satisfied: pyasn1<0.5.0,>=0.4.6 in /usr/local/lib/python3.7/dist-packages (from pyasn1-modules>=0.2.1->google-auth<3,>=1.6.3->tensorboard<2.9,>=2.8->tensorflow) (0.4.8)\n",
            "Requirement already satisfied: chardet<4,>=3.0.2 in /usr/local/lib/python3.7/dist-packages (from requests<3,>=2.21.0->tensorboard<2.9,>=2.8->tensorflow) (3.0.4)\n",
            "Requirement already satisfied: urllib3!=1.25.0,!=1.25.1,<1.26,>=1.21.1 in /usr/local/lib/python3.7/dist-packages (from requests<3,>=2.21.0->tensorboard<2.9,>=2.8->tensorflow) (1.24.3)\n",
            "Requirement already satisfied: idna<3,>=2.5 in /usr/local/lib/python3.7/dist-packages (from requests<3,>=2.21.0->tensorboard<2.9,>=2.8->tensorflow) (2.10)\n",
            "Requirement already satisfied: certifi>=2017.4.17 in /usr/local/lib/python3.7/dist-packages (from requests<3,>=2.21.0->tensorboard<2.9,>=2.8->tensorflow) (2021.10.8)\n",
            "Requirement already satisfied: oauthlib>=3.0.0 in /usr/local/lib/python3.7/dist-packages (from requests-oauthlib>=0.7.0->google-auth-oauthlib<0.5,>=0.4.1->tensorboard<2.9,>=2.8->tensorflow) (3.2.0)\n",
            "Installing collected packages: tf-estimator-nightly\n",
            "Successfully installed tf-estimator-nightly-2.8.0.dev2021122109\n"
          ]
        }
      ],
      "source": [
        "!pip install tensorflow"
      ]
    },
    {
      "cell_type": "code",
      "execution_count": 3,
      "metadata": {
        "id": "qt7s2eYMqbiW"
      },
      "outputs": [],
      "source": [
        "import numpy as np\n",
        "import pandas as pd\n",
        "from nltk.corpus import stopwords\n",
        "from nltk.tokenize import word_tokenize\n",
        "from nltk.stem.lancaster import LancasterStemmer\n",
        "import nltk\n",
        "import unidecode\n",
        "import re\n",
        "from sklearn.preprocessing import OneHotEncoder\n",
        "import matplotlib.pyplot as plt\n",
        "from keras.preprocessing.text import Tokenizer\n",
        "from keras.preprocessing.sequence import pad_sequences\n",
        "# from keras.optimizers import RMSprop\n",
        "from tensorflow.keras.utils import to_categorical\n",
        "from keras.models import Sequential, load_model\n",
        "from keras.layers import Dense, LSTM, Bidirectional, Embedding, Dropout, GlobalMaxPooling1D\n",
        "from keras.layers.convolutional import Conv1D, MaxPooling1D\n",
        "from keras.callbacks import ModelCheckpoint"
      ]
    },
    {
      "cell_type": "code",
      "execution_count": 4,
      "metadata": {
        "id": "02mjeYp4qnua"
      },
      "outputs": [],
      "source": [
        "def load_dataset(filename):\n",
        "    df = pd.read_csv(filename)\n",
        "    print(df.head())\n",
        "    intent = df[\"label\"]\n",
        "    unique_intent = list(set(intent))\n",
        "    sentences = list(df[\"Text\"])\n",
        "  \n",
        "    return (intent, unique_intent, sentences)"
      ]
    },
    {
      "cell_type": "code",
      "execution_count": 5,
      "metadata": {
        "colab": {
          "base_uri": "https://localhost:8080/"
        },
        "id": "7B2o8R5Nr9Y0",
        "outputId": "553e2d12-e901-4182-a486-e521a098b801"
      },
      "outputs": [
        {
          "output_type": "stream",
          "name": "stdout",
          "text": [
            "                Text      label\n",
            "0                 Hi  greetings\n",
            "1        How are you  greetings\n",
            "2        How you are  greetings\n",
            "3  anyone Present Is  greetings\n",
            "4  anyone Is Present  greetings\n"
          ]
        }
      ],
      "source": [
        "intent, unique_intent, sentences = load_dataset(\"edited.csv\")"
      ]
    },
    {
      "cell_type": "code",
      "execution_count": 6,
      "metadata": {
        "colab": {
          "base_uri": "https://localhost:8080/"
        },
        "id": "LfcaxKxDr_Sc",
        "outputId": "5cd36cda-acb1-466b-d3e4-e37eb49bc31e"
      },
      "outputs": [
        {
          "output_type": "stream",
          "name": "stdout",
          "text": [
            "Hi\n",
            "How are you\n",
            "How you are\n",
            "anyone Present Is\n",
            "anyone Is Present\n",
            "Good Day\n",
            "up Whats\n",
            "How Do You do\n",
            "do Do You How\n",
            "Do do You How\n",
            "How Do do You\n",
            "Hey\n",
            "Hello\n",
            "Greetings\n",
            "Goodbye\n",
            "Again See you\n",
            "See you Again\n",
            "Ciao\n",
            "Hasta Vista La\n",
            "Hasta La Vista\n",
            "Au Revior\n",
            "am I Leaving\n",
            "Leaving I am\n",
            "Help Thanks The For\n",
            "Help Thanks For The\n",
            "Thanks For Help The\n",
            "Thanks Help The For\n",
            "Have A Good Day\n",
            "Good Day A Have\n",
            "Have Good A Day\n",
            "Good A Have Day\n",
            "Care Take\n",
            "Take Care\n",
            "Thanks\n",
            "made you Who\n",
            "Who you made\n",
            "Who made you\n",
            "Your is Father Who\n",
            "Father Your Who is\n",
            "is Father Your Who\n"
          ]
        }
      ],
      "source": [
        "print(*sentences[:40], sep = \"\\n\")"
      ]
    },
    {
      "cell_type": "code",
      "execution_count": 7,
      "metadata": {
        "colab": {
          "base_uri": "https://localhost:8080/"
        },
        "id": "EhIc-fyasMT9",
        "outputId": "e034f63e-1d51-4dbb-bcc9-73385de6fc0f"
      },
      "outputs": [
        {
          "output_type": "stream",
          "name": "stdout",
          "text": [
            "[nltk_data] Downloading package stopwords to /root/nltk_data...\n",
            "[nltk_data]   Unzipping corpora/stopwords.zip.\n",
            "[nltk_data] Downloading package punkt to /root/nltk_data...\n",
            "[nltk_data]   Unzipping tokenizers/punkt.zip.\n"
          ]
        },
        {
          "output_type": "execute_result",
          "data": {
            "text/plain": [
              "True"
            ]
          },
          "metadata": {},
          "execution_count": 7
        }
      ],
      "source": [
        "nltk.download(\"stopwords\")\n",
        "nltk.download(\"punkt\")"
      ]
    },
    {
      "cell_type": "code",
      "execution_count": 8,
      "metadata": {
        "id": "jQszSdrVsS3l"
      },
      "outputs": [],
      "source": [
        "stemmer = LancasterStemmer()"
      ]
    },
    {
      "cell_type": "code",
      "execution_count": 9,
      "metadata": {
        "id": "vhI96JlfsVxK"
      },
      "outputs": [],
      "source": [
        "def cleaning(sentences):\n",
        "    words = []\n",
        "    for s in sentences:\n",
        "        clean = re.sub(r'[^ a-z A-Z 0-9]', \" \", s)\n",
        "        w = word_tokenize(clean)\n",
        "        #stemming\n",
        "        words.append([i.lower() for i in w])\n",
        "    \n",
        "    return words"
      ]
    },
    {
      "cell_type": "code",
      "execution_count": 10,
      "metadata": {
        "id": "sVvkUtJlsX_P"
      },
      "outputs": [],
      "source": [
        "cleaned_words = cleaning(sentences)"
      ]
    },
    {
      "cell_type": "code",
      "execution_count": 11,
      "metadata": {
        "colab": {
          "base_uri": "https://localhost:8080/"
        },
        "id": "BnUpyzx5sd2H",
        "outputId": "f85768cd-5617-4edf-f703-644e9117ff09"
      },
      "outputs": [
        {
          "output_type": "stream",
          "name": "stdout",
          "text": [
            "1457\n",
            "[['hi'], ['how', 'are', 'you'], ['how', 'you', 'are']]\n"
          ]
        }
      ],
      "source": [
        "print(len(cleaned_words))\n",
        "print(cleaned_words[:3])"
      ]
    },
    {
      "cell_type": "code",
      "execution_count": 12,
      "metadata": {
        "id": "myD_Cbkrsr7V"
      },
      "outputs": [],
      "source": [
        "def create_tokenizer(words, filters = '!\"#$%&()*+,-./:;<=>?@[\\]^_`{|}~'):\n",
        "    token = Tokenizer(filters = filters)\n",
        "    token.fit_on_texts(words)\n",
        "    return token"
      ]
    },
    {
      "cell_type": "code",
      "execution_count": 13,
      "metadata": {
        "id": "omPgyhd7szPa"
      },
      "outputs": [],
      "source": [
        "def max_length(words):\n",
        "    return(len(max(words, key = len)))"
      ]
    },
    {
      "cell_type": "code",
      "execution_count": 14,
      "metadata": {
        "colab": {
          "base_uri": "https://localhost:8080/"
        },
        "id": "wESnl4USs4yi",
        "outputId": "a77dfe01-c06c-4460-b476-cbb640859f61"
      },
      "outputs": [
        {
          "output_type": "stream",
          "name": "stdout",
          "text": [
            "Vocab Size = 927 and Maximum length = 40\n"
          ]
        }
      ],
      "source": [
        "word_tokenizer = create_tokenizer(cleaned_words)\n",
        "vocab_size = len(word_tokenizer.word_index) + 1\n",
        "max_length = max_length(cleaned_words)\n",
        "\n",
        "print(\"Vocab Size = %d and Maximum length = %d\" % (vocab_size, max_length))"
      ]
    },
    {
      "cell_type": "code",
      "execution_count": 15,
      "metadata": {
        "id": "49oNu0sQs5OF"
      },
      "outputs": [],
      "source": [
        "def encoding_doc(token, words):\n",
        "    return(token.texts_to_sequences(words))"
      ]
    },
    {
      "cell_type": "code",
      "execution_count": 16,
      "metadata": {
        "id": "ffOt29g5s8At"
      },
      "outputs": [],
      "source": [
        "encoded_doc = encoding_doc(word_tokenizer, cleaned_words)"
      ]
    },
    {
      "cell_type": "code",
      "execution_count": 17,
      "metadata": {
        "id": "mAOlyyHltAzd"
      },
      "outputs": [],
      "source": [
        "def padding_doc(encoded_doc, max_length):\n",
        "    return(pad_sequences(encoded_doc, maxlen = max_length, padding = \"post\"))"
      ]
    },
    {
      "cell_type": "code",
      "execution_count": 18,
      "metadata": {
        "id": "_KgKLpxUtDCR"
      },
      "outputs": [],
      "source": [
        "padded_doc = padding_doc(encoded_doc, max_length)"
      ]
    },
    {
      "cell_type": "code",
      "execution_count": 19,
      "metadata": {
        "colab": {
          "base_uri": "https://localhost:8080/"
        },
        "id": "qvAHnIwatGME",
        "outputId": "cb27fb83-6d6c-40d0-9a96-0949f7e2a4a0"
      },
      "outputs": [
        {
          "output_type": "stream",
          "name": "stdout",
          "text": [
            "Shape of padded docs =  (1457, 40)\n"
          ]
        }
      ],
      "source": [
        "print(\"Shape of padded docs = \",padded_doc.shape)"
      ]
    },
    {
      "cell_type": "code",
      "execution_count": 20,
      "metadata": {
        "id": "X8IuDB2ttJWI"
      },
      "outputs": [],
      "source": [
        "output_tokenizer = create_tokenizer(unique_intent, filters = '!\"#$%&()*+,-/:;<=>?@[\\]^`{|}~')"
      ]
    },
    {
      "cell_type": "code",
      "execution_count": null,
      "metadata": {
        "id": "bEK0TX-etLzc"
      },
      "outputs": [],
      "source": [
        "output_tokenizer.word_index"
      ]
    },
    {
      "cell_type": "code",
      "execution_count": 21,
      "metadata": {
        "id": "FlkcPqdRtOFu"
      },
      "outputs": [],
      "source": [
        "encoded_output = encoding_doc(output_tokenizer, intent)"
      ]
    },
    {
      "cell_type": "code",
      "execution_count": 24,
      "metadata": {
        "id": "sQKjNoEC4eL6"
      },
      "outputs": [],
      "source": [
        "encoded_output = np.array(encoded_output).reshape(len(encoded_output), 1)"
      ]
    },
    {
      "cell_type": "code",
      "execution_count": 25,
      "metadata": {
        "colab": {
          "base_uri": "https://localhost:8080/"
        },
        "id": "HRXZwC6ktUrv",
        "outputId": "32fcc646-05c8-47c4-b4a8-a395f2f71635"
      },
      "outputs": [
        {
          "output_type": "execute_result",
          "data": {
            "text/plain": [
              "(1457, 1)"
            ]
          },
          "metadata": {},
          "execution_count": 25
        }
      ],
      "source": [
        "encoded_output.shape"
      ]
    },
    {
      "cell_type": "code",
      "execution_count": 26,
      "metadata": {
        "id": "OowHgjTb4Zfc"
      },
      "outputs": [],
      "source": [
        "def one_hot(encode):\n",
        "    \n",
        "#     label_encoder = preprocessing.LabelEncoder() \n",
        "#     return label_encoder.fit_transform(encode) \n",
        "    \n",
        "    o = OneHotEncoder(sparse = False)\n",
        "    return(o.fit_transform(encode))\n"
      ]
    },
    {
      "cell_type": "code",
      "execution_count": 27,
      "metadata": {
        "id": "UY9fJTVd4s7O"
      },
      "outputs": [],
      "source": [
        "output_one_hot = one_hot(encoded_output)"
      ]
    },
    {
      "cell_type": "code",
      "execution_count": 28,
      "metadata": {
        "id": "gpx7QJ42D1c1"
      },
      "outputs": [],
      "source": [
        "from sklearn.model_selection import train_test_split"
      ]
    },
    {
      "cell_type": "code",
      "execution_count": 29,
      "metadata": {
        "id": "t-aJfnlpD5mk"
      },
      "outputs": [],
      "source": [
        "train_X, val_X, train_Y, val_Y = train_test_split(padded_doc, output_one_hot, test_size = 0.2)"
      ]
    },
    {
      "cell_type": "code",
      "execution_count": 30,
      "metadata": {
        "colab": {
          "base_uri": "https://localhost:8080/"
        },
        "id": "gqxYWkJRD-m8",
        "outputId": "57603f95-0737-4653-fe41-0fc2fbe24f26"
      },
      "outputs": [
        {
          "output_type": "stream",
          "name": "stdout",
          "text": [
            "Shape of train_X = (1165, 40) and train_Y = (1165, 243)\n",
            "Shape of val_X = (292, 40) and val_Y = (292, 243)\n"
          ]
        }
      ],
      "source": [
        "print(\"Shape of train_X = %s and train_Y = %s\" % (train_X.shape, train_Y.shape))\n",
        "print(\"Shape of val_X = %s and val_Y = %s\" % (val_X.shape, val_Y.shape))\n",
        "\n",
        "# Shape of train_X = (164, 17) and train_Y = (164, 2)\n",
        "# Shape of val_X = (42, 17) and val_Y = (42, 2)"
      ]
    },
    {
      "cell_type": "code",
      "execution_count": 32,
      "metadata": {
        "id": "zh9iP-adGV48"
      },
      "outputs": [],
      "source": [
        "import tensorflow as tf"
      ]
    },
    {
      "cell_type": "code",
      "execution_count": null,
      "metadata": {
        "colab": {
          "background_save": true
        },
        "id": "7dWZ3ecpGboJ"
      },
      "outputs": [],
      "source": [
        "units=256"
      ]
    },
    {
      "cell_type": "code",
      "execution_count": 33,
      "metadata": {
        "colab": {
          "base_uri": "https://localhost:8080/"
        },
        "id": "EZG14ajtFhF9",
        "outputId": "3d4a2987-852c-49a7-b77b-18d818b37429"
      },
      "outputs": [
        {
          "output_type": "stream",
          "name": "stdout",
          "text": [
            "Model: \"sequential_1\"\n",
            "_________________________________________________________________\n",
            " Layer (type)                Output Shape              Param #   \n",
            "=================================================================\n",
            " embedding_1 (Embedding)     (None, 40, 256)           237312    \n",
            "                                                                 \n",
            " conv1d_1 (Conv1D)           (None, 40, 32)            24608     \n",
            "                                                                 \n",
            " max_pooling1d_1 (MaxPooling  (None, 20, 32)           0         \n",
            " 1D)                                                             \n",
            "                                                                 \n",
            " dropout_3 (Dropout)         (None, 20, 32)            0         \n",
            "                                                                 \n",
            " bidirectional_1 (Bidirectio  (None, 100)              33200     \n",
            " nal)                                                            \n",
            "                                                                 \n",
            " dropout_4 (Dropout)         (None, 100)               0         \n",
            "                                                                 \n",
            " dense_2 (Dense)             (None, 128)               12928     \n",
            "                                                                 \n",
            " dropout_5 (Dropout)         (None, 128)               0         \n",
            "                                                                 \n",
            " dense_3 (Dense)             (None, 243)               31347     \n",
            "                                                                 \n",
            "=================================================================\n",
            "Total params: 339,395\n",
            "Trainable params: 339,395\n",
            "Non-trainable params: 0\n",
            "_________________________________________________________________\n"
          ]
        },
        {
          "output_type": "stream",
          "name": "stderr",
          "text": [
            "/usr/local/lib/python3.7/dist-packages/keras/optimizer_v2/adam.py:105: UserWarning: The `lr` argument is deprecated, use `learning_rate` instead.\n",
            "  super(Adam, self).__init__(name, **kwargs)\n"
          ]
        }
      ],
      "source": [
        "model = Sequential()\n",
        "model.add(Embedding(vocab_size, 256, input_length = max_length))\n",
        "model.add(Conv1D(filters=32, kernel_size=3, padding='same', activation='tanh'))\n",
        "model.add(MaxPooling1D(pool_size=2))\n",
        "model.add(Dropout(0.3))\n",
        "model.add(Bidirectional(LSTM(50)))\n",
        "model.add(Dropout(0.3))\n",
        "model.add(Dense(128,activation='tanh'))\n",
        "model.add(Dropout(0.3))\n",
        "model.add(Dense(243, activation='softmax'))\n",
        "optimizer = tf.keras.optimizers.Adam(lr=1e-3)\n",
        "model.compile(optimizer=optimizer, loss='categorical_crossentropy', metrics=['accuracy'])\n",
        "model.summary()"
      ]
    },
    {
      "cell_type": "code",
      "source": [
        "from keras.callbacks import History\n",
        "history = History()\n",
        "m = model.fit(train_X, train_Y, validation_data = (val_X, val_Y),\n",
        "                   epochs = 40, batch_size = 15, callbacks = [history])"
      ],
      "metadata": {
        "colab": {
          "base_uri": "https://localhost:8080/"
        },
        "id": "-NtieDqYQKdP",
        "outputId": "0c1a84a2-bfd7-49bc-9384-898eba7dc9d3"
      },
      "execution_count": 34,
      "outputs": [
        {
          "output_type": "stream",
          "name": "stdout",
          "text": [
            "Epoch 1/40\n",
            "78/78 [==============================] - 8s 47ms/step - loss: 5.3492 - accuracy: 0.0094 - val_loss: 4.9399 - val_accuracy: 0.0240\n",
            "Epoch 2/40\n",
            "78/78 [==============================] - 2s 30ms/step - loss: 4.6711 - accuracy: 0.0472 - val_loss: 4.3705 - val_accuracy: 0.0925\n",
            "Epoch 3/40\n",
            "78/78 [==============================] - 2s 31ms/step - loss: 4.0636 - accuracy: 0.1142 - val_loss: 3.6298 - val_accuracy: 0.2226\n",
            "Epoch 4/40\n",
            "78/78 [==============================] - 2s 30ms/step - loss: 3.4566 - accuracy: 0.2395 - val_loss: 2.9945 - val_accuracy: 0.3390\n",
            "Epoch 5/40\n",
            "78/78 [==============================] - 2s 30ms/step - loss: 2.9760 - accuracy: 0.3648 - val_loss: 2.5296 - val_accuracy: 0.5342\n",
            "Epoch 6/40\n",
            "78/78 [==============================] - 2s 31ms/step - loss: 2.5814 - accuracy: 0.4704 - val_loss: 2.1773 - val_accuracy: 0.6404\n",
            "Epoch 7/40\n",
            "78/78 [==============================] - 2s 31ms/step - loss: 2.2443 - accuracy: 0.5494 - val_loss: 1.9122 - val_accuracy: 0.7089\n",
            "Epoch 8/40\n",
            "78/78 [==============================] - 2s 31ms/step - loss: 1.9882 - accuracy: 0.5897 - val_loss: 1.7016 - val_accuracy: 0.7226\n",
            "Epoch 9/40\n",
            "78/78 [==============================] - 2s 30ms/step - loss: 1.7514 - accuracy: 0.6558 - val_loss: 1.5482 - val_accuracy: 0.7637\n",
            "Epoch 10/40\n",
            "78/78 [==============================] - 2s 30ms/step - loss: 1.5948 - accuracy: 0.6644 - val_loss: 1.4308 - val_accuracy: 0.7637\n",
            "Epoch 11/40\n",
            "78/78 [==============================] - 2s 30ms/step - loss: 1.4513 - accuracy: 0.7056 - val_loss: 1.3603 - val_accuracy: 0.7774\n",
            "Epoch 12/40\n",
            "78/78 [==============================] - 2s 31ms/step - loss: 1.2962 - accuracy: 0.7339 - val_loss: 1.3055 - val_accuracy: 0.7877\n",
            "Epoch 13/40\n",
            "78/78 [==============================] - 2s 30ms/step - loss: 1.1853 - accuracy: 0.7597 - val_loss: 1.2589 - val_accuracy: 0.7911\n",
            "Epoch 14/40\n",
            "78/78 [==============================] - 2s 30ms/step - loss: 1.0782 - accuracy: 0.7725 - val_loss: 1.1731 - val_accuracy: 0.8151\n",
            "Epoch 15/40\n",
            "78/78 [==============================] - 2s 29ms/step - loss: 1.0203 - accuracy: 0.7820 - val_loss: 1.1972 - val_accuracy: 0.7979\n",
            "Epoch 16/40\n",
            "78/78 [==============================] - 2s 31ms/step - loss: 0.9220 - accuracy: 0.8052 - val_loss: 1.1260 - val_accuracy: 0.8322\n",
            "Epoch 17/40\n",
            "78/78 [==============================] - 2s 30ms/step - loss: 0.8702 - accuracy: 0.8043 - val_loss: 1.0958 - val_accuracy: 0.8288\n",
            "Epoch 18/40\n",
            "78/78 [==============================] - 2s 30ms/step - loss: 0.7962 - accuracy: 0.8283 - val_loss: 1.0791 - val_accuracy: 0.8219\n",
            "Epoch 19/40\n",
            "78/78 [==============================] - 2s 30ms/step - loss: 0.7322 - accuracy: 0.8446 - val_loss: 1.0808 - val_accuracy: 0.8390\n",
            "Epoch 20/40\n",
            "78/78 [==============================] - 2s 30ms/step - loss: 0.6988 - accuracy: 0.8455 - val_loss: 1.0566 - val_accuracy: 0.8390\n",
            "Epoch 21/40\n",
            "78/78 [==============================] - 2s 30ms/step - loss: 0.6570 - accuracy: 0.8532 - val_loss: 1.0185 - val_accuracy: 0.8459\n",
            "Epoch 22/40\n",
            "78/78 [==============================] - 2s 30ms/step - loss: 0.5969 - accuracy: 0.8764 - val_loss: 1.0121 - val_accuracy: 0.8390\n",
            "Epoch 23/40\n",
            "78/78 [==============================] - 2s 29ms/step - loss: 0.5353 - accuracy: 0.8815 - val_loss: 1.0043 - val_accuracy: 0.8527\n",
            "Epoch 24/40\n",
            "78/78 [==============================] - 2s 30ms/step - loss: 0.5466 - accuracy: 0.8704 - val_loss: 1.0112 - val_accuracy: 0.8493\n",
            "Epoch 25/40\n",
            "78/78 [==============================] - 2s 31ms/step - loss: 0.4766 - accuracy: 0.9013 - val_loss: 1.0309 - val_accuracy: 0.8425\n",
            "Epoch 26/40\n",
            "78/78 [==============================] - 2s 30ms/step - loss: 0.4548 - accuracy: 0.9004 - val_loss: 0.9680 - val_accuracy: 0.8664\n",
            "Epoch 27/40\n",
            "78/78 [==============================] - 2s 30ms/step - loss: 0.4538 - accuracy: 0.9039 - val_loss: 1.0017 - val_accuracy: 0.8562\n",
            "Epoch 28/40\n",
            "78/78 [==============================] - 2s 30ms/step - loss: 0.3979 - accuracy: 0.9262 - val_loss: 0.9780 - val_accuracy: 0.8630\n",
            "Epoch 29/40\n",
            "78/78 [==============================] - 2s 30ms/step - loss: 0.4031 - accuracy: 0.9150 - val_loss: 0.9812 - val_accuracy: 0.8664\n",
            "Epoch 30/40\n",
            "78/78 [==============================] - 2s 29ms/step - loss: 0.3472 - accuracy: 0.9416 - val_loss: 0.9727 - val_accuracy: 0.8733\n",
            "Epoch 31/40\n",
            "78/78 [==============================] - 2s 29ms/step - loss: 0.3241 - accuracy: 0.9322 - val_loss: 1.0007 - val_accuracy: 0.8664\n",
            "Epoch 32/40\n",
            "78/78 [==============================] - 2s 30ms/step - loss: 0.3328 - accuracy: 0.9322 - val_loss: 0.9862 - val_accuracy: 0.8733\n",
            "Epoch 33/40\n",
            "78/78 [==============================] - 2s 32ms/step - loss: 0.3134 - accuracy: 0.9476 - val_loss: 1.0049 - val_accuracy: 0.8664\n",
            "Epoch 34/40\n",
            "78/78 [==============================] - 2s 30ms/step - loss: 0.2857 - accuracy: 0.9545 - val_loss: 0.9911 - val_accuracy: 0.8699\n",
            "Epoch 35/40\n",
            "78/78 [==============================] - 2s 29ms/step - loss: 0.2728 - accuracy: 0.9502 - val_loss: 0.9944 - val_accuracy: 0.8699\n",
            "Epoch 36/40\n",
            "78/78 [==============================] - 2s 29ms/step - loss: 0.2524 - accuracy: 0.9588 - val_loss: 0.9826 - val_accuracy: 0.8767\n",
            "Epoch 37/40\n",
            "78/78 [==============================] - 2s 30ms/step - loss: 0.2614 - accuracy: 0.9356 - val_loss: 1.0565 - val_accuracy: 0.8630\n",
            "Epoch 38/40\n",
            "78/78 [==============================] - 2s 29ms/step - loss: 0.2525 - accuracy: 0.9494 - val_loss: 1.0142 - val_accuracy: 0.8664\n",
            "Epoch 39/40\n",
            "78/78 [==============================] - 2s 30ms/step - loss: 0.2269 - accuracy: 0.9571 - val_loss: 1.0116 - val_accuracy: 0.8767\n",
            "Epoch 40/40\n",
            "78/78 [==============================] - 2s 29ms/step - loss: 0.2299 - accuracy: 0.9494 - val_loss: 1.0544 - val_accuracy: 0.8733\n"
          ]
        }
      ]
    },
    {
      "cell_type": "code",
      "execution_count": 35,
      "metadata": {
        "id": "aHpg7xswF1Ud",
        "colab": {
          "base_uri": "https://localhost:8080/",
          "height": 590
        },
        "outputId": "8f6f598c-6a8e-42a1-e41d-491bfe531b8c"
      },
      "outputs": [
        {
          "output_type": "display_data",
          "data": {
            "image/png": "[encoded data removed]",
            "text/plain": [
              "<Figure size 432x288 with 1 Axes>"
            ]
          },
          "metadata": {
            "needs_background": "light"
          }
        },
        {
          "output_type": "execute_result",
          "data": {
            "text/plain": [
              "<matplotlib.legend.Legend at 0x7f7136a8a3d0>"
            ]
          },
          "metadata": {},
          "execution_count": 35
        },
        {
          "output_type": "display_data",
          "data": {
            "image/png": "[encoded data removed]",
            "text/plain": [
              "<Figure size 432x288 with 1 Axes>"
            ]
          },
          "metadata": {
            "needs_background": "light"
          }
        }
      ],
      "source": [
        "plt.plot(m.history['accuracy'])\n",
        "plt.plot(m.history['val_accuracy'])\n",
        "plt.title('model accuracy')\n",
        "plt.ylabel('accuracy')\n",
        "plt.xlabel('epoch')\n",
        "plt.legend(['train', 'test'], loc='upper left')\n",
        "plt.grid()\n",
        "plt.show()\n",
        "\n",
        "plt.plot(m.history['loss'])\n",
        "plt.plot(m.history['val_loss'])\n",
        "plt.title('model loss')\n",
        "plt.ylabel('loss')\n",
        "plt.xlabel('epoch')\n",
        "plt.legend(['train', 'test'], loc='upper left')"
      ]
    },
    {
      "cell_type": "code",
      "execution_count": 36,
      "metadata": {
        "id": "xFBS-DBJL1tI",
        "colab": {
          "base_uri": "https://localhost:8080/"
        },
        "outputId": "af0fba9c-2f79-4196-8496-dc33051f4f3b"
      },
      "outputs": [
        {
          "output_type": "stream",
          "name": "stdout",
          "text": [
            "model created\n"
          ]
        }
      ],
      "source": [
        "model.save('chatbot_model.h5')\n",
        "print(\"model created\")"
      ]
    },
    {
      "cell_type": "code",
      "execution_count": 37,
      "metadata": {
        "id": "uGl9GOQ3LiLB"
      },
      "outputs": [],
      "source": [
        "model = load_model(\"chatbot_model.h5\")"
      ]
    }
  ],
  "metadata": {
    "colab": {
      "collapsed_sections": [],
      "name": "Final HybridDL.ipynb",
      "provenance": []
    },
    "kernelspec": {
      "display_name": "Python 3",
      "name": "python3"
    },
    "language_info": {
      "name": "python"
    }
  },
  "nbformat": 4,
  "nbformat_minor": 0
}